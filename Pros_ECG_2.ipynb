{
  "nbformat": 4,
  "nbformat_minor": 0,
  "metadata": {
    "colab": {
      "name": "Pros ECG 2.ipynb",
      "provenance": [],
      "collapsed_sections": [],
      "authorship_tag": "ABX9TyO36W7acNZVQffoeyGQD3Qs",
      "include_colab_link": true
    },
    "kernelspec": {
      "name": "python3",
      "display_name": "Python 3"
    },
    "language_info": {
      "name": "python"
    },
    "accelerator": "GPU",
    "gpuClass": "standard"
  },
  "cells": [
    {
      "cell_type": "markdown",
      "metadata": {
        "id": "view-in-github",
        "colab_type": "text"
      },
      "source": [
        "<a href=\"https://colab.research.google.com/github/hadinursalim/Bioinformatics/blob/main/Pros_ECG_2.ipynb\" target=\"_parent\"><img src=\"https://colab.research.google.com/assets/colab-badge.svg\" alt=\"Open In Colab\"/></a>"
      ]
    },
    {
      "cell_type": "code",
      "execution_count": null,
      "metadata": {
        "colab": {
          "base_uri": "https://localhost:8080/"
        },
        "id": "sKCMlNlIVP02",
        "outputId": "b4266809-8e4e-44ff-cc35-03e9d9ac6530"
      },
      "outputs": [
        {
          "output_type": "stream",
          "name": "stdout",
          "text": [
            "Mounted at /content/drive/\n"
          ]
        }
      ],
      "source": [
        "from google.colab import drive\n",
        "drive.mount('/content/drive/')"
      ]
    },
    {
      "cell_type": "code",
      "source": [
        "!pip install -q keras"
      ],
      "metadata": {
        "id": "p4V6IldeVgT_"
      },
      "execution_count": null,
      "outputs": []
    },
    {
      "cell_type": "code",
      "source": [
        "import keras\n",
        "import numpy as np\n",
        "import pandas as pd\n",
        "import seaborn as sns\n",
        "from keras.layers import Dropout\n",
        "import matplotlib.pyplot as plt\n",
        "from sklearn.metrics import classification_report\n",
        "from sklearn.model_selection import train_test_split\n",
        "from sklearn.metrics import f1_score\n",
        "from sklearn.metrics import confusion_matrix\n",
        "from keras.utils.np_utils import to_categorical\n",
        "from sklearn.utils import class_weight\n",
        "import warnings\n",
        "warnings.filterwarnings('ignore')"
      ],
      "metadata": {
        "id": "M2qrSnzJVjAc"
      },
      "execution_count": null,
      "outputs": []
    },
    {
      "cell_type": "markdown",
      "source": [
        "# **Dataset**"
      ],
      "metadata": {
        "id": "BLUdRztEVm6U"
      }
    },
    {
      "cell_type": "code",
      "source": [
        "#dataset\n",
        "train_df=pd.read_csv('/content/drive/MyDrive/Dataset ECG - MIT - BIH/mitbih_train.csv',header=None)\n",
        "test_df=pd.read_csv('/content/drive/MyDrive/Dataset ECG - MIT - BIH/mitbih_test.csv',header=None)"
      ],
      "metadata": {
        "id": "c60d_zEeVrFc"
      },
      "execution_count": null,
      "outputs": []
    },
    {
      "cell_type": "code",
      "source": [
        "train_df[187]=train_df[187].astype(int)\n",
        "equilibre=train_df[187].value_counts()\n",
        "print(equilibre)\n",
        "train_df.shape"
      ],
      "metadata": {
        "colab": {
          "base_uri": "https://localhost:8080/"
        },
        "id": "u6ceR7p3VuIO",
        "outputId": "1383caaa-4f73-4b3b-d458-fd419ec9ea69"
      },
      "execution_count": null,
      "outputs": [
        {
          "output_type": "stream",
          "name": "stdout",
          "text": [
            "0    72471\n",
            "4     6431\n",
            "2     5788\n",
            "1     2223\n",
            "3      641\n",
            "Name: 187, dtype: int64\n"
          ]
        },
        {
          "output_type": "execute_result",
          "data": {
            "text/plain": [
              "(87554, 188)"
            ]
          },
          "metadata": {},
          "execution_count": 5
        }
      ]
    },
    {
      "cell_type": "code",
      "source": [
        "test_df[187]=test_df[187].astype(int)\n",
        "equilibre=test_df[187].value_counts()\n",
        "print(equilibre)\n",
        "test_df.shape"
      ],
      "metadata": {
        "colab": {
          "base_uri": "https://localhost:8080/"
        },
        "id": "RUSfKlosVxHW",
        "outputId": "5dcf9482-71fe-44e8-c00d-be799fa947a7"
      },
      "execution_count": null,
      "outputs": [
        {
          "output_type": "stream",
          "name": "stdout",
          "text": [
            "0    18118\n",
            "4     1608\n",
            "2     1448\n",
            "1      556\n",
            "3      162\n",
            "Name: 187, dtype: int64\n"
          ]
        },
        {
          "output_type": "execute_result",
          "data": {
            "text/plain": [
              "(21892, 188)"
            ]
          },
          "metadata": {},
          "execution_count": 6
        }
      ]
    },
    {
      "cell_type": "markdown",
      "source": [
        "# **Visualization**"
      ],
      "metadata": {
        "id": "SXRy15fTV5P-"
      }
    },
    {
      "cell_type": "code",
      "source": [
        "plt.figure(figsize=(20,10))\n",
        "my_circle=plt.Circle( (0,0), 0.7, color='white')\n",
        "plt.pie(equilibre, labels=['normal beat','unknown Beats','Ventricular ectopic beats','Supraventricular ectopic beats','Fusion Beats'], colors=['red','green','blue','skyblue','orange'],autopct='%1.1f%%')\n",
        "p=plt.gcf()\n",
        "p.gca().add_artist(my_circle)\n",
        "plt.show()"
      ],
      "metadata": {
        "colab": {
          "base_uri": "https://localhost:8080/",
          "height": 575
        },
        "id": "L6Gcq3hEV9fn",
        "outputId": "09aeada5-ff02-4aff-f62b-77fc0608a55e"
      },
      "execution_count": null,
      "outputs": [
        {
          "output_type": "display_data",
          "data": {
            "text/plain": [
              "<Figure size 1440x720 with 1 Axes>"
            ],
            "image/png": "[encoded data removed]"
          },
          "metadata": {}
        }
      ]
    },
    {
      "cell_type": "code",
      "source": [
        "# plot ECG data belonging to each class label\n",
        "label = [\"Normal\",\"Supraventricular\",\"Ventricular\",\n",
        "         \"Fusion\",\"Unknown\"]\n",
        "color = ['blue','red','green','orange','purple']\n",
        "fig, ax = plt.subplots(5, 1, sharex=True, sharey=True,figsize=(10,10))\n",
        "for i, row in enumerate(ax):\n",
        "    row.plot((train_df[train_df[187] == i].iloc[0])[:-1], label=label[i], color=color[i])\n",
        "    row.legend()"
      ],
      "metadata": {
        "colab": {
          "base_uri": "https://localhost:8080/",
          "height": 592
        },
        "id": "8JeB44HMWBDc",
        "outputId": "96b34633-ff89-46fc-a5f8-8bbe93e85fbe"
      },
      "execution_count": null,
      "outputs": [
        {
          "output_type": "display_data",
          "data": {
            "text/plain": [
              "<Figure size 720x720 with 5 Axes>"
            ],
            "image/png": "[encoded data removed]"
          },
          "metadata": {
            "needs_background": "light"
          }
        }
      ]
    },
    {
      "cell_type": "markdown",
      "source": [
        "# **Resample**"
      ],
      "metadata": {
        "id": "1bmpQSWEWECN"
      }
    },
    {
      "cell_type": "code",
      "source": [
        "#resample\n",
        "from sklearn.utils import resample\n",
        "df_1=train_df[train_df[187]==1]\n",
        "df_2=train_df[train_df[187]==2]\n",
        "df_3=train_df[train_df[187]==3]\n",
        "df_4=train_df[train_df[187]==4]\n",
        "df_0=(train_df[train_df[187]==0]).sample(n=20000,random_state=42)\n",
        "\n",
        "df_1_upsample=resample(df_1,replace=True,n_samples=20000,random_state=123)\n",
        "df_2_upsample=resample(df_2,replace=True,n_samples=20000,random_state=124)\n",
        "df_3_upsample=resample(df_3,replace=True,n_samples=20000,random_state=125)\n",
        "df_4_upsample=resample(df_4,replace=True,n_samples=20000,random_state=126)\n",
        "\n",
        "train_df=pd.concat([df_0,df_1_upsample,df_2_upsample,df_3_upsample,df_4_upsample])"
      ],
      "metadata": {
        "id": "K45d3tvkWHkn"
      },
      "execution_count": null,
      "outputs": []
    },
    {
      "cell_type": "code",
      "source": [
        "equilibre=train_df[187].value_counts()\n",
        "print(equilibre)"
      ],
      "metadata": {
        "colab": {
          "base_uri": "https://localhost:8080/"
        },
        "id": "8LGkogyhWKi6",
        "outputId": "17ca0c58-59a3-46e5-852d-308082b07d48"
      },
      "execution_count": null,
      "outputs": [
        {
          "output_type": "stream",
          "name": "stdout",
          "text": [
            "0    20000\n",
            "1    20000\n",
            "2    20000\n",
            "3    20000\n",
            "4    20000\n",
            "Name: 187, dtype: int64\n"
          ]
        }
      ]
    },
    {
      "cell_type": "code",
      "source": [
        "plt.figure(figsize=(20,10))\n",
        "my_circle=plt.Circle( (0,0), 0.7, color='white')\n",
        "plt.pie(equilibre, labels=['normal beat','unknown Beats','Ventricular ectopic beats','Supraventricular ectopic beats','Fusion Beats'], colors=['red','green','blue','skyblue','orange'],autopct='%1.1f%%')\n",
        "p=plt.gcf()\n",
        "p.gca().add_artist(my_circle)\n",
        "plt.show()"
      ],
      "metadata": {
        "colab": {
          "base_uri": "https://localhost:8080/",
          "height": 575
        },
        "id": "6NJRIA1pWNg7",
        "outputId": "312f0c03-847e-4554-eda7-c6502fcb1988"
      },
      "execution_count": null,
      "outputs": [
        {
          "output_type": "display_data",
          "data": {
            "text/plain": [
              "<Figure size 1440x720 with 1 Axes>"
            ],
            "image/png": "[encoded data removed]"
          },
          "metadata": {}
        }
      ]
    },
    {
      "cell_type": "code",
      "source": [
        "c=train_df.groupby(187,group_keys=False).apply(lambda train_df : train_df.sample(1))"
      ],
      "metadata": {
        "id": "T7iwuvgnWQtx"
      },
      "execution_count": null,
      "outputs": []
    },
    {
      "cell_type": "code",
      "source": [
        "plt.subplot(1, 5, 1)  # 1 line, 2 rows, index nr 1 (first position in the subplot)\n",
        "plt.plot(c.iloc[0,:186])\n",
        "plt.subplot(1, 5, 2)  # 1 line, 2 rows, index nr 2 (second position in the subplot)\n",
        "plt.plot(c.iloc[1,:186])\n",
        "plt.subplot(1, 5, 3)  # 1 line, 2 rows, index nr 2 (second position in the subplot)\n",
        "plt.plot(c.iloc[2,:186])\n",
        "plt.subplot(1, 5, 4)  # 1 line, 2 rows, index nr 2 (second position in the subplot)\n",
        "plt.plot(c.iloc[3,:186])\n",
        "plt.subplot(1, 5, 5)  # 1 line, 2 rows, index nr 2 (second position in the subplot)\n",
        "plt.plot(c.iloc[4,:186])\n",
        "\n",
        "plt.show()"
      ],
      "metadata": {
        "colab": {
          "base_uri": "https://localhost:8080/",
          "height": 265
        },
        "id": "NcA-t6DZWTu9",
        "outputId": "33b2a30e-eec1-4b65-e675-b90e37e4dd48"
      },
      "execution_count": null,
      "outputs": [
        {
          "output_type": "display_data",
          "data": {
            "text/plain": [
              "<Figure size 432x288 with 5 Axes>"
            ],
            "image/png": "[encoded data removed]"
          },
          "metadata": {
            "needs_background": "light"
          }
        }
      ]
    },
    {
      "cell_type": "code",
      "source": [
        "def plot_hist(class_number,size,min_):\n",
        "    img=train_df.loc[train_df[187]==class_number].values\n",
        "    img=img[:,min_:size]\n",
        "    img_flatten=img.flatten()\n",
        "\n",
        "    final1=np.arange(min_,size)\n",
        "    for i in range (img.shape[0]-1):\n",
        "        tempo1=np.arange(min_,size)\n",
        "        final1=np.concatenate((final1, tempo1), axis=None)\n",
        "    print(len(final1))\n",
        "    print(len(img_flatten))\n",
        "    plt.hist2d(final1,img_flatten, bins=(80,80),cmap=plt.cm.jet)\n",
        "    plt.show()"
      ],
      "metadata": {
        "id": "iOq9fyunWWs-"
      },
      "execution_count": null,
      "outputs": []
    },
    {
      "cell_type": "code",
      "source": [
        "plot_hist(0,70,5)"
      ],
      "metadata": {
        "colab": {
          "base_uri": "https://localhost:8080/",
          "height": 306
        },
        "id": "qUyiidllWZoF",
        "outputId": "846015db-595d-4bcf-aff8-0f6bcbbb594a"
      },
      "execution_count": null,
      "outputs": [
        {
          "output_type": "stream",
          "name": "stdout",
          "text": [
            "1300000\n",
            "1300000\n"
          ]
        },
        {
          "output_type": "display_data",
          "data": {
            "text/plain": [
              "<Figure size 432x288 with 1 Axes>"
            ],
            "image/png": "[encoded data removed]"
          },
          "metadata": {
            "needs_background": "light"
          }
        }
      ]
    },
    {
      "cell_type": "code",
      "source": [
        "plt.plot(c.iloc[1,:186],color='red')"
      ],
      "metadata": {
        "colab": {
          "base_uri": "https://localhost:8080/",
          "height": 283
        },
        "id": "-1jiYLOeWcf4",
        "outputId": "6550fed8-70f0-4bea-e623-08dae22ae170"
      },
      "execution_count": null,
      "outputs": [
        {
          "output_type": "execute_result",
          "data": {
            "text/plain": [
              "[<matplotlib.lines.Line2D at 0x7fa3d9e803d0>]"
            ]
          },
          "metadata": {},
          "execution_count": 16
        },
        {
          "output_type": "display_data",
          "data": {
            "text/plain": [
              "<Figure size 432x288 with 1 Axes>"
            ],
            "image/png": "[encoded data removed]"
          },
          "metadata": {
            "needs_background": "light"
          }
        }
      ]
    },
    {
      "cell_type": "code",
      "source": [
        "plot_hist(1,50,5)"
      ],
      "metadata": {
        "colab": {
          "base_uri": "https://localhost:8080/",
          "height": 306
        },
        "id": "dYRGuwy0WgBe",
        "outputId": "a66fd67c-e0c1-45c8-fc83-01726c23e1aa"
      },
      "execution_count": null,
      "outputs": [
        {
          "output_type": "stream",
          "name": "stdout",
          "text": [
            "900000\n",
            "900000\n"
          ]
        },
        {
          "output_type": "display_data",
          "data": {
            "text/plain": [
              "<Figure size 432x288 with 1 Axes>"
            ],
            "image/png": "[encoded data removed]"
          },
          "metadata": {
            "needs_background": "light"
          }
        }
      ]
    },
    {
      "cell_type": "code",
      "source": [
        "plt.plot(c.iloc[2,:186],color='yellow')"
      ],
      "metadata": {
        "colab": {
          "base_uri": "https://localhost:8080/",
          "height": 283
        },
        "id": "vRAzAAYBWjA0",
        "outputId": "a95eaaf9-6b55-4faa-9d45-47a96ad6c455"
      },
      "execution_count": null,
      "outputs": [
        {
          "output_type": "execute_result",
          "data": {
            "text/plain": [
              "[<matplotlib.lines.Line2D at 0x7fa3d9dfc110>]"
            ]
          },
          "metadata": {},
          "execution_count": 18
        },
        {
          "output_type": "display_data",
          "data": {
            "text/plain": [
              "<Figure size 432x288 with 1 Axes>"
            ],
            "image/png": "[encoded data removed]"
          },
          "metadata": {
            "needs_background": "light"
          }
        }
      ]
    },
    {
      "cell_type": "code",
      "source": [
        "plot_hist(2,60,30)"
      ],
      "metadata": {
        "colab": {
          "base_uri": "https://localhost:8080/",
          "height": 306
        },
        "id": "wxPwWWjrWm-V",
        "outputId": "1d029588-6861-4417-90d7-2686cde8a6fa"
      },
      "execution_count": null,
      "outputs": [
        {
          "output_type": "stream",
          "name": "stdout",
          "text": [
            "600000\n",
            "600000\n"
          ]
        },
        {
          "output_type": "display_data",
          "data": {
            "text/plain": [
              "<Figure size 432x288 with 1 Axes>"
            ],
            "image/png": "[encoded data removed]"
          },
          "metadata": {
            "needs_background": "light"
          }
        }
      ]
    },
    {
      "cell_type": "code",
      "source": [
        "plt.plot(c.iloc[3,:186],color='grey')"
      ],
      "metadata": {
        "colab": {
          "base_uri": "https://localhost:8080/",
          "height": 283
        },
        "id": "9Jp00YuTWrxl",
        "outputId": "cc97b019-95c8-4f6c-9983-6df3670586df"
      },
      "execution_count": null,
      "outputs": [
        {
          "output_type": "execute_result",
          "data": {
            "text/plain": [
              "[<matplotlib.lines.Line2D at 0x7fa3d9cb9cd0>]"
            ]
          },
          "metadata": {},
          "execution_count": 20
        },
        {
          "output_type": "display_data",
          "data": {
            "text/plain": [
              "<Figure size 432x288 with 1 Axes>"
            ],
            "image/png": "[encoded data removed]"
          },
          "metadata": {
            "needs_background": "light"
          }
        }
      ]
    },
    {
      "cell_type": "code",
      "source": [
        "plot_hist(3,60,25)"
      ],
      "metadata": {
        "colab": {
          "base_uri": "https://localhost:8080/",
          "height": 306
        },
        "id": "RJDFDfsdWuqe",
        "outputId": "b2778fdb-7873-49ca-809a-e47da19e3598"
      },
      "execution_count": null,
      "outputs": [
        {
          "output_type": "stream",
          "name": "stdout",
          "text": [
            "700000\n",
            "700000\n"
          ]
        },
        {
          "output_type": "display_data",
          "data": {
            "text/plain": [
              "<Figure size 432x288 with 1 Axes>"
            ],
            "image/png": "[encoded data removed]"
          },
          "metadata": {
            "needs_background": "light"
          }
        }
      ]
    },
    {
      "cell_type": "code",
      "source": [
        "plt.plot(c.iloc[4,:186],color='green')"
      ],
      "metadata": {
        "colab": {
          "base_uri": "https://localhost:8080/",
          "height": 283
        },
        "id": "Y_Jpn1uRWxl9",
        "outputId": "83db56fd-5c11-4cdf-e121-83d13f70a010"
      },
      "execution_count": null,
      "outputs": [
        {
          "output_type": "execute_result",
          "data": {
            "text/plain": [
              "[<matplotlib.lines.Line2D at 0x7fa3d9c0e350>]"
            ]
          },
          "metadata": {},
          "execution_count": 22
        },
        {
          "output_type": "display_data",
          "data": {
            "text/plain": [
              "<Figure size 432x288 with 1 Axes>"
            ],
            "image/png": "[encoded data removed]"
          },
          "metadata": {
            "needs_background": "light"
          }
        }
      ]
    },
    {
      "cell_type": "code",
      "source": [
        "plot_hist(4,50,18)"
      ],
      "metadata": {
        "colab": {
          "base_uri": "https://localhost:8080/",
          "height": 306
        },
        "id": "xyMBC6wUW0Zl",
        "outputId": "6838ad1c-560e-4638-d257-5e88ed5d3679"
      },
      "execution_count": null,
      "outputs": [
        {
          "output_type": "stream",
          "name": "stdout",
          "text": [
            "640000\n",
            "640000\n"
          ]
        },
        {
          "output_type": "display_data",
          "data": {
            "text/plain": [
              "<Figure size 432x288 with 1 Axes>"
            ],
            "image/png": "[encoded data removed]"
          },
          "metadata": {
            "needs_background": "light"
          }
        }
      ]
    },
    {
      "cell_type": "markdown",
      "source": [
        "# **Gaussian Method**"
      ],
      "metadata": {
        "id": "wa2ISBAYW489"
      }
    },
    {
      "cell_type": "code",
      "source": [
        "#Gaussian Method\n",
        "def add_gaussian_noise(signal):\n",
        "    noise=np.random.normal(0,0.05,186)\n",
        "    return (signal+noise)"
      ],
      "metadata": {
        "id": "zo6oPOEFW8Qw"
      },
      "execution_count": null,
      "outputs": []
    },
    {
      "cell_type": "code",
      "source": [
        "tempo=c.iloc[0,:186]\n",
        "bruiter=add_gaussian_noise(tempo)\n",
        "\n",
        "plt.subplot(2,1,1)\n",
        "plt.plot(c.iloc[0,:186],color='green')\n",
        "\n",
        "plt.subplot(2,1,2)\n",
        "plt.plot(bruiter)\n",
        "\n",
        "plt.show()"
      ],
      "metadata": {
        "colab": {
          "base_uri": "https://localhost:8080/",
          "height": 265
        },
        "id": "dFD1pS4SW_Nt",
        "outputId": "0c4bbe43-dcaf-4911-c730-a4b0d45b17a9"
      },
      "execution_count": null,
      "outputs": [
        {
          "output_type": "display_data",
          "data": {
            "text/plain": [
              "<Figure size 432x288 with 2 Axes>"
            ],
            "image/png": "[encoded data removed]"
          },
          "metadata": {
            "needs_background": "light"
          }
        }
      ]
    },
    {
      "cell_type": "code",
      "source": [
        "target_train=train_df[187]\n",
        "target_test=test_df[187]\n",
        "y_train=to_categorical(target_train)\n",
        "y_test=to_categorical(target_test)"
      ],
      "metadata": {
        "id": "6nQKsAPUXCK_"
      },
      "execution_count": null,
      "outputs": []
    },
    {
      "cell_type": "code",
      "source": [
        "X_train=train_df.iloc[:,:186].values\n",
        "X_test=test_df.iloc[:,:186].values\n",
        "#for i in range(len(X_train)):\n",
        "#    X_train[i,:186]= add_gaussian_noise(X_train[i,:186])\n",
        "X_train = X_train.reshape(len(X_train), X_train.shape[1],1)\n",
        "X_test = X_test.reshape(len(X_test), X_test.shape[1],1)"
      ],
      "metadata": {
        "id": "yt4SRDBgXE0g"
      },
      "execution_count": null,
      "outputs": []
    },
    {
      "cell_type": "code",
      "source": [
        "X_train.shape"
      ],
      "metadata": {
        "colab": {
          "base_uri": "https://localhost:8080/"
        },
        "id": "agzLxa6AXHOl",
        "outputId": "cd4e8b8f-1f9b-4a1b-aeb5-ab4e7d6f7fa5"
      },
      "execution_count": null,
      "outputs": [
        {
          "output_type": "execute_result",
          "data": {
            "text/plain": [
              "(100000, 186, 1)"
            ]
          },
          "metadata": {},
          "execution_count": 28
        }
      ]
    },
    {
      "cell_type": "code",
      "source": [
        "#train and test samples\n",
        "print(X_train.shape[0], 'training samples')\n",
        "print(X_test.shape[0], 'testing samples')"
      ],
      "metadata": {
        "colab": {
          "base_uri": "https://localhost:8080/"
        },
        "id": "yXq42cgWXKAy",
        "outputId": "fbce8e0d-9e6e-4aab-d10a-539e83d5efab"
      },
      "execution_count": null,
      "outputs": [
        {
          "output_type": "stream",
          "name": "stdout",
          "text": [
            "100000 training samples\n",
            "21892 testing samples\n"
          ]
        }
      ]
    },
    {
      "cell_type": "code",
      "source": [
        "train_df[187] = train_df[187].astype('int64')\n",
        "target_col = train_df[187]\n",
        "test_df[187] = test_df[187].astype('int64')\n",
        "test_target_col = test_df[187]\n",
        "labels = ['Normal beat','Supraventricular premature beat','Premature ventricular contraction','Fusion of ventricular and normal beat','Unclassifiable beat']"
      ],
      "metadata": {
        "id": "8-bHACKmXMj1"
      },
      "execution_count": null,
      "outputs": []
    },
    {
      "cell_type": "code",
      "source": [
        "X = train_df.drop(187,axis=1)\n",
        "y = target_col\n",
        "print(X.shape)\n",
        "print(y.shape)\n",
        "\n",
        "x_test = test_df.drop(187,axis=1)\n",
        "y_test = test_df[187].astype('int64')\n",
        "print(x_test.shape)\n",
        "print(y_test.shape)"
      ],
      "metadata": {
        "colab": {
          "base_uri": "https://localhost:8080/"
        },
        "id": "Pb1G-_CKXP10",
        "outputId": "54bf1668-7974-4708-89ea-44f5f574d9e7"
      },
      "execution_count": null,
      "outputs": [
        {
          "output_type": "stream",
          "name": "stdout",
          "text": [
            "(100000, 187)\n",
            "(100000,)\n",
            "(21892, 187)\n",
            "(21892,)\n"
          ]
        }
      ]
    },
    {
      "cell_type": "markdown",
      "source": [
        "**Let's prepare a validation set which we will be useful for estimating model performance later.**"
      ],
      "metadata": {
        "id": "V_PmPRUHXTWZ"
      }
    },
    {
      "cell_type": "code",
      "source": [
        "from sklearn.model_selection import train_test_split\n",
        "x_train,x_val,y_train,y_val = train_test_split(X,y.values,random_state=42,stratify=y.values,shuffle=True,train_size=0.75)\n",
        "print(\"The shape of training data : \",x_train.shape,y_train.shape)\n",
        "print(\"The shape of validation data : \",x_val.shape,y_val.shape)"
      ],
      "metadata": {
        "colab": {
          "base_uri": "https://localhost:8080/"
        },
        "id": "ylEq1t9qXWRH",
        "outputId": "b8bf6e0c-4a5c-4478-9968-cd609c093a8a"
      },
      "execution_count": null,
      "outputs": [
        {
          "output_type": "stream",
          "name": "stdout",
          "text": [
            "The shape of training data :  (75000, 187) (75000,)\n",
            "The shape of validation data :  (25000, 187) (25000,)\n"
          ]
        }
      ]
    },
    {
      "cell_type": "markdown",
      "source": [
        "**Distribution of samples on training dataset**"
      ],
      "metadata": {
        "id": "bMOFtpedXbPe"
      }
    },
    {
      "cell_type": "code",
      "source": [
        "pd.Series(np.bincount(y_train),index=labels)"
      ],
      "metadata": {
        "colab": {
          "base_uri": "https://localhost:8080/"
        },
        "id": "MiO72h_kXee_",
        "outputId": "da25073c-c8a1-4817-c0a4-3c298503c7c4"
      },
      "execution_count": null,
      "outputs": [
        {
          "output_type": "execute_result",
          "data": {
            "text/plain": [
              "Normal beat                              15000\n",
              "Supraventricular premature beat          15000\n",
              "Premature ventricular contraction        15000\n",
              "Fusion of ventricular and normal beat    15000\n",
              "Unclassifiable beat                      15000\n",
              "dtype: int64"
            ]
          },
          "metadata": {},
          "execution_count": 33
        }
      ]
    },
    {
      "cell_type": "markdown",
      "source": [
        "**Distribution of samples on validation dataset**"
      ],
      "metadata": {
        "id": "9CKuvUY4XlFC"
      }
    },
    {
      "cell_type": "code",
      "source": [
        "pd.Series(np.bincount(y_val),index=labels)"
      ],
      "metadata": {
        "colab": {
          "base_uri": "https://localhost:8080/"
        },
        "id": "sRkOXYMVXn2N",
        "outputId": "2220c94d-d3b7-4632-9d0f-4e1283cc7048"
      },
      "execution_count": null,
      "outputs": [
        {
          "output_type": "execute_result",
          "data": {
            "text/plain": [
              "Normal beat                              5000\n",
              "Supraventricular premature beat          5000\n",
              "Premature ventricular contraction        5000\n",
              "Fusion of ventricular and normal beat    5000\n",
              "Unclassifiable beat                      5000\n",
              "dtype: int64"
            ]
          },
          "metadata": {},
          "execution_count": 34
        }
      ]
    },
    {
      "cell_type": "markdown",
      "source": [
        "**Distribution of samples on testing dataset**"
      ],
      "metadata": {
        "id": "N1oyxPLHXqpk"
      }
    },
    {
      "cell_type": "code",
      "source": [
        "pd.Series(np.bincount(y_test),index=labels)"
      ],
      "metadata": {
        "colab": {
          "base_uri": "https://localhost:8080/"
        },
        "id": "aAmuJI32XtRa",
        "outputId": "1fc67223-3263-423e-9058-675d8c63a599"
      },
      "execution_count": null,
      "outputs": [
        {
          "output_type": "execute_result",
          "data": {
            "text/plain": [
              "Normal beat                              18118\n",
              "Supraventricular premature beat            556\n",
              "Premature ventricular contraction         1448\n",
              "Fusion of ventricular and normal beat      162\n",
              "Unclassifiable beat                       1608\n",
              "dtype: int64"
            ]
          },
          "metadata": {},
          "execution_count": 35
        }
      ]
    },
    {
      "cell_type": "code",
      "source": [
        "from sklearn.preprocessing import StandardScaler\n",
        "scaler = StandardScaler().fit(x_train)\n",
        "x_train = scaler.transform(x_train)\n",
        "x_test = scaler.transform(x_test)\n",
        "x_val = scaler.transform(x_val)"
      ],
      "metadata": {
        "id": "DZi8ar9HXwBK"
      },
      "execution_count": null,
      "outputs": []
    },
    {
      "cell_type": "code",
      "source": [
        "import tensorflow as tf\n",
        "y_train = tf.keras.utils.to_categorical(y_train)\n",
        "y_val = tf.keras.utils.to_categorical(y_val)\n",
        "y_test = tf.keras.utils.to_categorical(y_test)\n",
        "x_train = np.expand_dims(x_train, 2)\n",
        "x_val = np.expand_dims(x_val, 2)\n",
        "x_test = np.expand_dims(x_test, 2)\n",
        "print(\"The shape of training data : \",x_train.shape,y_train.shape)\n",
        "print(\"The shape of validation data : \",x_val.shape,y_val.shape)\n",
        "print(\"The shape of testing data : \",x_test.shape,y_test.shape)"
      ],
      "metadata": {
        "colab": {
          "base_uri": "https://localhost:8080/"
        },
        "id": "6ih0mmwxXy1y",
        "outputId": "bff2367e-e0aa-4a12-ece5-d174755a3eb0"
      },
      "execution_count": null,
      "outputs": [
        {
          "output_type": "stream",
          "name": "stdout",
          "text": [
            "The shape of training data :  (75000, 187, 1) (75000, 5)\n",
            "The shape of validation data :  (25000, 187, 1) (25000, 5)\n",
            "The shape of testing data :  (21892, 187, 1) (21892, 5)\n"
          ]
        }
      ]
    },
    {
      "cell_type": "code",
      "source": [
        "y_test[0]"
      ],
      "metadata": {
        "colab": {
          "base_uri": "https://localhost:8080/"
        },
        "id": "LCxReWQFX2GH",
        "outputId": "0f345daf-dcb3-41de-b30f-0cee47861e37"
      },
      "execution_count": null,
      "outputs": [
        {
          "output_type": "execute_result",
          "data": {
            "text/plain": [
              "array([1., 0., 0., 0., 0.], dtype=float32)"
            ]
          },
          "metadata": {},
          "execution_count": 38
        }
      ]
    },
    {
      "cell_type": "markdown",
      "source": [
        "# **Data Modelling**"
      ],
      "metadata": {
        "id": "j81ZqsDCX487"
      }
    },
    {
      "cell_type": "code",
      "source": [
        "from keras.models import Model\n",
        "from keras.layers import Input, Dense, Conv1D, MaxPooling1D, Softmax, Add, Flatten, Activation , Dropout, BatchNormalization, AveragePooling1D, ZeroPadding1D\n",
        "from keras import backend as K\n",
        "from keras import Sequential\n",
        "from keras.initializers import glorot_uniform"
      ],
      "metadata": {
        "id": "4Uu4xYw8X8ow"
      },
      "execution_count": null,
      "outputs": []
    },
    {
      "cell_type": "markdown",
      "source": [
        "# **Resnet model**"
      ],
      "metadata": {
        "id": "g8qRta2kYAIs"
      }
    },
    {
      "cell_type": "code",
      "source": [
        "n_obs, feature, depth = x_train.shape\n",
        "batch_size = 256\n",
        "def identity_block(X, f, filters, stage, block):\n",
        "   \n",
        "    conv_name_base = 'res' + str(stage) + block + '_branch'\n",
        "    bn_name_base = 'bn' + str(stage) + block + '_branch'\n",
        "    F1, F2, F3 = filters\n",
        "\n",
        "    X_shortcut = X\n",
        "   \n",
        "    X = Conv1D(filters=F1, kernel_size=1, strides=1, padding='valid', name=conv_name_base + '2a', kernel_initializer=glorot_uniform(seed=0))(X)\n",
        "    X = BatchNormalization(axis=2, name=bn_name_base + '2a')(X)\n",
        "    X = Activation('relu')(X)\n",
        "\n",
        "    X = Conv1D(filters=F2, kernel_size=f, strides=1, padding='same', name=conv_name_base + '2b', kernel_initializer=glorot_uniform(seed=0))(X)\n",
        "    X = BatchNormalization(axis=2, name=bn_name_base + '2b')(X)\n",
        "    X = Activation('relu')(X)\n",
        "\n",
        "    X = Conv1D(filters=F3, kernel_size=1, strides=1, padding='valid', name=conv_name_base + '2c', kernel_initializer=glorot_uniform(seed=0))(X)\n",
        "    X = BatchNormalization(axis=2, name=bn_name_base + '2c')(X)\n",
        "\n",
        "    X = Add()([X, X_shortcut])# SKIP Connection\n",
        "    X = Activation('relu')(X)\n",
        "\n",
        "    return X"
      ],
      "metadata": {
        "id": "YzRViCDuYEag"
      },
      "execution_count": null,
      "outputs": []
    },
    {
      "cell_type": "code",
      "source": [
        "def convolutional_block(X, f, filters, stage, block, s=2):\n",
        "   \n",
        "    conv_name_base = 'res' + str(stage) + block + '_branch'\n",
        "    bn_name_base = 'bn' + str(stage) + block + '_branch'\n",
        "\n",
        "    F1, F2, F3 = filters\n",
        "\n",
        "    X_shortcut = X\n",
        "\n",
        "    X = Conv1D(filters=F1, kernel_size=1, strides=s, padding='valid', name=conv_name_base + '2a', kernel_initializer=glorot_uniform(seed=0))(X)\n",
        "    X = BatchNormalization(axis=2, name=bn_name_base + '2a')(X)\n",
        "    X = Activation('relu')(X)\n",
        "\n",
        "    X = Conv1D(filters=F2, kernel_size=f, strides=1, padding='same', name=conv_name_base + '2b', kernel_initializer=glorot_uniform(seed=0))(X)\n",
        "    X = BatchNormalization(axis=2, name=bn_name_base + '2b')(X)\n",
        "    X = Activation('relu')(X)\n",
        "\n",
        "    X = Conv1D(filters=F3, kernel_size=1, strides=1, padding='valid', name=conv_name_base + '2c', kernel_initializer=glorot_uniform(seed=0))(X)\n",
        "    X = BatchNormalization(axis=2, name=bn_name_base + '2c')(X)\n",
        "\n",
        "    X_shortcut = Conv1D(filters=F3, kernel_size=1, strides=s, padding='valid', name=conv_name_base + '1', kernel_initializer=glorot_uniform(seed=0))(X_shortcut)\n",
        "    X_shortcut = BatchNormalization(axis=2, name=bn_name_base + '1')(X_shortcut)\n",
        "\n",
        "    X = Add()([X, X_shortcut])\n",
        "    X = Activation('relu')(X)\n",
        "\n",
        "    return X"
      ],
      "metadata": {
        "id": "fSj1m9qkYKVR"
      },
      "execution_count": null,
      "outputs": []
    },
    {
      "cell_type": "code",
      "source": [
        "def ResNet(input_shape=(feature,depth)):\n",
        "\n",
        "    X_input = Input(input_shape)\n",
        "\n",
        "    X = ZeroPadding1D(3)(X_input)\n",
        "\n",
        "    X = Conv1D(64, 7, strides=2, name='conv1', kernel_initializer=glorot_uniform(seed=0))(X)\n",
        "    X = BatchNormalization(axis=2, name='bn_conv1')(X)\n",
        "    X = Activation('relu')(X)\n",
        "    X = MaxPooling1D(3, strides= 2)(X)\n",
        "\n",
        "    X = convolutional_block(X, f=3, filters=[128, 128, 256], stage=2, block='a', s=1)\n",
        "    X = identity_block(X, 3, [128, 128, 256], stage=2, block='b')\n",
        "    X = identity_block(X, 3, [128, 128, 256], stage=2, block='c')\n",
        "\n",
        "\n",
        "    X = convolutional_block(X, f=3, filters=[128, 128, 512], stage=3, block='a', s=2)\n",
        "    X = identity_block(X, 3, [128, 128, 512], stage=3, block='b')\n",
        "    X = identity_block(X, 3, [128, 128, 512], stage=3, block='c')\n",
        "    X = identity_block(X, 3, [128, 128, 512], stage=3, block='d')\n",
        "\n",
        "    X = convolutional_block(X, f=3, filters=[256, 256, 1024], stage=4, block='a', s=2)\n",
        "    X = identity_block(X, 3, [256, 256, 1024], stage=4, block='b')\n",
        "    X = identity_block(X, 3, [256, 256, 1024], stage=4, block='c')\n",
        "    X = identity_block(X, 3, [256, 256, 1024], stage=4, block='d')\n",
        "    X = identity_block(X, 3, [256, 256, 1024], stage=4, block='e')\n",
        "    X = identity_block(X, 3, [256, 256, 1024], stage=4, block='f')\n",
        "\n",
        "    X = convolutional_block(X, f=3, filters=[512, 512, 2048], stage=5, block='a', s=2)\n",
        "    X = identity_block(X, 3, [512, 512, 2048], stage=5, block='b')\n",
        "    X = identity_block(X, 3, [512, 512, 2048], stage=5, block='c')\n",
        "\n",
        "    X = AveragePooling1D(pool_size= 2, padding='same')(X)\n",
        "    \n",
        "    model = Model(inputs=X_input, outputs=X, name='ResNet')\n",
        "\n",
        "    return model"
      ],
      "metadata": {
        "id": "U04ifhdEYNzJ"
      },
      "execution_count": null,
      "outputs": []
    },
    {
      "cell_type": "code",
      "source": [
        "base_model = ResNet(input_shape=(feature,depth))\n",
        "\n",
        "headModel = base_model.output\n",
        "headModel = Flatten()(headModel)\n",
        "headModel=Dense(256, activation='relu', name='fc1',kernel_initializer=glorot_uniform(seed=0))(headModel)\n",
        "headModel=Dense(128, activation='relu', name='fc2',kernel_initializer=glorot_uniform(seed=0))(headModel)\n",
        "headModel = Dense(5,activation='softmax', name='fc3',kernel_initializer=glorot_uniform(seed=0))(headModel)"
      ],
      "metadata": {
        "id": "8zumAPMtYRST"
      },
      "execution_count": null,
      "outputs": []
    },
    {
      "cell_type": "code",
      "source": [
        "model = Model(inputs=base_model.input, outputs=headModel)\n",
        "model.summary()"
      ],
      "metadata": {
        "colab": {
          "base_uri": "https://localhost:8080/"
        },
        "id": "fw_OyhHIYWjB",
        "outputId": "dca6d07b-97b9-43c7-a592-4cf1a241dfac"
      },
      "execution_count": null,
      "outputs": [
        {
          "output_type": "stream",
          "name": "stdout",
          "text": [
            "Model: \"model\"\n",
            "__________________________________________________________________________________________________\n",
            " Layer (type)                   Output Shape         Param #     Connected to                     \n",
            "==================================================================================================\n",
            " input_1 (InputLayer)           [(None, 187, 1)]     0           []                               \n",
            "                                                                                                  \n",
            " zero_padding1d (ZeroPadding1D)  (None, 193, 1)      0           ['input_1[0][0]']                \n",
            "                                                                                                  \n",
            " conv1 (Conv1D)                 (None, 94, 64)       512         ['zero_padding1d[0][0]']         \n",
            "                                                                                                  \n",
            " bn_conv1 (BatchNormalization)  (None, 94, 64)       256         ['conv1[0][0]']                  \n",
            "                                                                                                  \n",
            " activation (Activation)        (None, 94, 64)       0           ['bn_conv1[0][0]']               \n",
            "                                                                                                  \n",
            " max_pooling1d (MaxPooling1D)   (None, 46, 64)       0           ['activation[0][0]']             \n",
            "                                                                                                  \n",
            " res2a_branch2a (Conv1D)        (None, 46, 128)      8320        ['max_pooling1d[0][0]']          \n",
            "                                                                                                  \n",
            " bn2a_branch2a (BatchNormalizat  (None, 46, 128)     512         ['res2a_branch2a[0][0]']         \n",
            " ion)                                                                                             \n",
            "                                                                                                  \n",
            " activation_1 (Activation)      (None, 46, 128)      0           ['bn2a_branch2a[0][0]']          \n",
            "                                                                                                  \n",
            " res2a_branch2b (Conv1D)        (None, 46, 128)      49280       ['activation_1[0][0]']           \n",
            "                                                                                                  \n",
            " bn2a_branch2b (BatchNormalizat  (None, 46, 128)     512         ['res2a_branch2b[0][0]']         \n",
            " ion)                                                                                             \n",
            "                                                                                                  \n",
            " activation_2 (Activation)      (None, 46, 128)      0           ['bn2a_branch2b[0][0]']          \n",
            "                                                                                                  \n",
            " res2a_branch2c (Conv1D)        (None, 46, 256)      33024       ['activation_2[0][0]']           \n",
            "                                                                                                  \n",
            " res2a_branch1 (Conv1D)         (None, 46, 256)      16640       ['max_pooling1d[0][0]']          \n",
            "                                                                                                  \n",
            " bn2a_branch2c (BatchNormalizat  (None, 46, 256)     1024        ['res2a_branch2c[0][0]']         \n",
            " ion)                                                                                             \n",
            "                                                                                                  \n",
            " bn2a_branch1 (BatchNormalizati  (None, 46, 256)     1024        ['res2a_branch1[0][0]']          \n",
            " on)                                                                                              \n",
            "                                                                                                  \n",
            " add (Add)                      (None, 46, 256)      0           ['bn2a_branch2c[0][0]',          \n",
            "                                                                  'bn2a_branch1[0][0]']           \n",
            "                                                                                                  \n",
            " activation_3 (Activation)      (None, 46, 256)      0           ['add[0][0]']                    \n",
            "                                                                                                  \n",
            " res2b_branch2a (Conv1D)        (None, 46, 128)      32896       ['activation_3[0][0]']           \n",
            "                                                                                                  \n",
            " bn2b_branch2a (BatchNormalizat  (None, 46, 128)     512         ['res2b_branch2a[0][0]']         \n",
            " ion)                                                                                             \n",
            "                                                                                                  \n",
            " activation_4 (Activation)      (None, 46, 128)      0           ['bn2b_branch2a[0][0]']          \n",
            "                                                                                                  \n",
            " res2b_branch2b (Conv1D)        (None, 46, 128)      49280       ['activation_4[0][0]']           \n",
            "                                                                                                  \n",
            " bn2b_branch2b (BatchNormalizat  (None, 46, 128)     512         ['res2b_branch2b[0][0]']         \n",
            " ion)                                                                                             \n",
            "                                                                                                  \n",
            " activation_5 (Activation)      (None, 46, 128)      0           ['bn2b_branch2b[0][0]']          \n",
            "                                                                                                  \n",
            " res2b_branch2c (Conv1D)        (None, 46, 256)      33024       ['activation_5[0][0]']           \n",
            "                                                                                                  \n",
            " bn2b_branch2c (BatchNormalizat  (None, 46, 256)     1024        ['res2b_branch2c[0][0]']         \n",
            " ion)                                                                                             \n",
            "                                                                                                  \n",
            " add_1 (Add)                    (None, 46, 256)      0           ['bn2b_branch2c[0][0]',          \n",
            "                                                                  'activation_3[0][0]']           \n",
            "                                                                                                  \n",
            " activation_6 (Activation)      (None, 46, 256)      0           ['add_1[0][0]']                  \n",
            "                                                                                                  \n",
            " res2c_branch2a (Conv1D)        (None, 46, 128)      32896       ['activation_6[0][0]']           \n",
            "                                                                                                  \n",
            " bn2c_branch2a (BatchNormalizat  (None, 46, 128)     512         ['res2c_branch2a[0][0]']         \n",
            " ion)                                                                                             \n",
            "                                                                                                  \n",
            " activation_7 (Activation)      (None, 46, 128)      0           ['bn2c_branch2a[0][0]']          \n",
            "                                                                                                  \n",
            " res2c_branch2b (Conv1D)        (None, 46, 128)      49280       ['activation_7[0][0]']           \n",
            "                                                                                                  \n",
            " bn2c_branch2b (BatchNormalizat  (None, 46, 128)     512         ['res2c_branch2b[0][0]']         \n",
            " ion)                                                                                             \n",
            "                                                                                                  \n",
            " activation_8 (Activation)      (None, 46, 128)      0           ['bn2c_branch2b[0][0]']          \n",
            "                                                                                                  \n",
            " res2c_branch2c (Conv1D)        (None, 46, 256)      33024       ['activation_8[0][0]']           \n",
            "                                                                                                  \n",
            " bn2c_branch2c (BatchNormalizat  (None, 46, 256)     1024        ['res2c_branch2c[0][0]']         \n",
            " ion)                                                                                             \n",
            "                                                                                                  \n",
            " add_2 (Add)                    (None, 46, 256)      0           ['bn2c_branch2c[0][0]',          \n",
            "                                                                  'activation_6[0][0]']           \n",
            "                                                                                                  \n",
            " activation_9 (Activation)      (None, 46, 256)      0           ['add_2[0][0]']                  \n",
            "                                                                                                  \n",
            " res3a_branch2a (Conv1D)        (None, 23, 128)      32896       ['activation_9[0][0]']           \n",
            "                                                                                                  \n",
            " bn3a_branch2a (BatchNormalizat  (None, 23, 128)     512         ['res3a_branch2a[0][0]']         \n",
            " ion)                                                                                             \n",
            "                                                                                                  \n",
            " activation_10 (Activation)     (None, 23, 128)      0           ['bn3a_branch2a[0][0]']          \n",
            "                                                                                                  \n",
            " res3a_branch2b (Conv1D)        (None, 23, 128)      49280       ['activation_10[0][0]']          \n",
            "                                                                                                  \n",
            " bn3a_branch2b (BatchNormalizat  (None, 23, 128)     512         ['res3a_branch2b[0][0]']         \n",
            " ion)                                                                                             \n",
            "                                                                                                  \n",
            " activation_11 (Activation)     (None, 23, 128)      0           ['bn3a_branch2b[0][0]']          \n",
            "                                                                                                  \n",
            " res3a_branch2c (Conv1D)        (None, 23, 512)      66048       ['activation_11[0][0]']          \n",
            "                                                                                                  \n",
            " res3a_branch1 (Conv1D)         (None, 23, 512)      131584      ['activation_9[0][0]']           \n",
            "                                                                                                  \n",
            " bn3a_branch2c (BatchNormalizat  (None, 23, 512)     2048        ['res3a_branch2c[0][0]']         \n",
            " ion)                                                                                             \n",
            "                                                                                                  \n",
            " bn3a_branch1 (BatchNormalizati  (None, 23, 512)     2048        ['res3a_branch1[0][0]']          \n",
            " on)                                                                                              \n",
            "                                                                                                  \n",
            " add_3 (Add)                    (None, 23, 512)      0           ['bn3a_branch2c[0][0]',          \n",
            "                                                                  'bn3a_branch1[0][0]']           \n",
            "                                                                                                  \n",
            " activation_12 (Activation)     (None, 23, 512)      0           ['add_3[0][0]']                  \n",
            "                                                                                                  \n",
            " res3b_branch2a (Conv1D)        (None, 23, 128)      65664       ['activation_12[0][0]']          \n",
            "                                                                                                  \n",
            " bn3b_branch2a (BatchNormalizat  (None, 23, 128)     512         ['res3b_branch2a[0][0]']         \n",
            " ion)                                                                                             \n",
            "                                                                                                  \n",
            " activation_13 (Activation)     (None, 23, 128)      0           ['bn3b_branch2a[0][0]']          \n",
            "                                                                                                  \n",
            " res3b_branch2b (Conv1D)        (None, 23, 128)      49280       ['activation_13[0][0]']          \n",
            "                                                                                                  \n",
            " bn3b_branch2b (BatchNormalizat  (None, 23, 128)     512         ['res3b_branch2b[0][0]']         \n",
            " ion)                                                                                             \n",
            "                                                                                                  \n",
            " activation_14 (Activation)     (None, 23, 128)      0           ['bn3b_branch2b[0][0]']          \n",
            "                                                                                                  \n",
            " res3b_branch2c (Conv1D)        (None, 23, 512)      66048       ['activation_14[0][0]']          \n",
            "                                                                                                  \n",
            " bn3b_branch2c (BatchNormalizat  (None, 23, 512)     2048        ['res3b_branch2c[0][0]']         \n",
            " ion)                                                                                             \n",
            "                                                                                                  \n",
            " add_4 (Add)                    (None, 23, 512)      0           ['bn3b_branch2c[0][0]',          \n",
            "                                                                  'activation_12[0][0]']          \n",
            "                                                                                                  \n",
            " activation_15 (Activation)     (None, 23, 512)      0           ['add_4[0][0]']                  \n",
            "                                                                                                  \n",
            " res3c_branch2a (Conv1D)        (None, 23, 128)      65664       ['activation_15[0][0]']          \n",
            "                                                                                                  \n",
            " bn3c_branch2a (BatchNormalizat  (None, 23, 128)     512         ['res3c_branch2a[0][0]']         \n",
            " ion)                                                                                             \n",
            "                                                                                                  \n",
            " activation_16 (Activation)     (None, 23, 128)      0           ['bn3c_branch2a[0][0]']          \n",
            "                                                                                                  \n",
            " res3c_branch2b (Conv1D)        (None, 23, 128)      49280       ['activation_16[0][0]']          \n",
            "                                                                                                  \n",
            " bn3c_branch2b (BatchNormalizat  (None, 23, 128)     512         ['res3c_branch2b[0][0]']         \n",
            " ion)                                                                                             \n",
            "                                                                                                  \n",
            " activation_17 (Activation)     (None, 23, 128)      0           ['bn3c_branch2b[0][0]']          \n",
            "                                                                                                  \n",
            " res3c_branch2c (Conv1D)        (None, 23, 512)      66048       ['activation_17[0][0]']          \n",
            "                                                                                                  \n",
            " bn3c_branch2c (BatchNormalizat  (None, 23, 512)     2048        ['res3c_branch2c[0][0]']         \n",
            " ion)                                                                                             \n",
            "                                                                                                  \n",
            " add_5 (Add)                    (None, 23, 512)      0           ['bn3c_branch2c[0][0]',          \n",
            "                                                                  'activation_15[0][0]']          \n",
            "                                                                                                  \n",
            " activation_18 (Activation)     (None, 23, 512)      0           ['add_5[0][0]']                  \n",
            "                                                                                                  \n",
            " res3d_branch2a (Conv1D)        (None, 23, 128)      65664       ['activation_18[0][0]']          \n",
            "                                                                                                  \n",
            " bn3d_branch2a (BatchNormalizat  (None, 23, 128)     512         ['res3d_branch2a[0][0]']         \n",
            " ion)                                                                                             \n",
            "                                                                                                  \n",
            " activation_19 (Activation)     (None, 23, 128)      0           ['bn3d_branch2a[0][0]']          \n",
            "                                                                                                  \n",
            " res3d_branch2b (Conv1D)        (None, 23, 128)      49280       ['activation_19[0][0]']          \n",
            "                                                                                                  \n",
            " bn3d_branch2b (BatchNormalizat  (None, 23, 128)     512         ['res3d_branch2b[0][0]']         \n",
            " ion)                                                                                             \n",
            "                                                                                                  \n",
            " activation_20 (Activation)     (None, 23, 128)      0           ['bn3d_branch2b[0][0]']          \n",
            "                                                                                                  \n",
            " res3d_branch2c (Conv1D)        (None, 23, 512)      66048       ['activation_20[0][0]']          \n",
            "                                                                                                  \n",
            " bn3d_branch2c (BatchNormalizat  (None, 23, 512)     2048        ['res3d_branch2c[0][0]']         \n",
            " ion)                                                                                             \n",
            "                                                                                                  \n",
            " add_6 (Add)                    (None, 23, 512)      0           ['bn3d_branch2c[0][0]',          \n",
            "                                                                  'activation_18[0][0]']          \n",
            "                                                                                                  \n",
            " activation_21 (Activation)     (None, 23, 512)      0           ['add_6[0][0]']                  \n",
            "                                                                                                  \n",
            " res4a_branch2a (Conv1D)        (None, 12, 256)      131328      ['activation_21[0][0]']          \n",
            "                                                                                                  \n",
            " bn4a_branch2a (BatchNormalizat  (None, 12, 256)     1024        ['res4a_branch2a[0][0]']         \n",
            " ion)                                                                                             \n",
            "                                                                                                  \n",
            " activation_22 (Activation)     (None, 12, 256)      0           ['bn4a_branch2a[0][0]']          \n",
            "                                                                                                  \n",
            " res4a_branch2b (Conv1D)        (None, 12, 256)      196864      ['activation_22[0][0]']          \n",
            "                                                                                                  \n",
            " bn4a_branch2b (BatchNormalizat  (None, 12, 256)     1024        ['res4a_branch2b[0][0]']         \n",
            " ion)                                                                                             \n",
            "                                                                                                  \n",
            " activation_23 (Activation)     (None, 12, 256)      0           ['bn4a_branch2b[0][0]']          \n",
            "                                                                                                  \n",
            " res4a_branch2c (Conv1D)        (None, 12, 1024)     263168      ['activation_23[0][0]']          \n",
            "                                                                                                  \n",
            " res4a_branch1 (Conv1D)         (None, 12, 1024)     525312      ['activation_21[0][0]']          \n",
            "                                                                                                  \n",
            " bn4a_branch2c (BatchNormalizat  (None, 12, 1024)    4096        ['res4a_branch2c[0][0]']         \n",
            " ion)                                                                                             \n",
            "                                                                                                  \n",
            " bn4a_branch1 (BatchNormalizati  (None, 12, 1024)    4096        ['res4a_branch1[0][0]']          \n",
            " on)                                                                                              \n",
            "                                                                                                  \n",
            " add_7 (Add)                    (None, 12, 1024)     0           ['bn4a_branch2c[0][0]',          \n",
            "                                                                  'bn4a_branch1[0][0]']           \n",
            "                                                                                                  \n",
            " activation_24 (Activation)     (None, 12, 1024)     0           ['add_7[0][0]']                  \n",
            "                                                                                                  \n",
            " res4b_branch2a (Conv1D)        (None, 12, 256)      262400      ['activation_24[0][0]']          \n",
            "                                                                                                  \n",
            " bn4b_branch2a (BatchNormalizat  (None, 12, 256)     1024        ['res4b_branch2a[0][0]']         \n",
            " ion)                                                                                             \n",
            "                                                                                                  \n",
            " activation_25 (Activation)     (None, 12, 256)      0           ['bn4b_branch2a[0][0]']          \n",
            "                                                                                                  \n",
            " res4b_branch2b (Conv1D)        (None, 12, 256)      196864      ['activation_25[0][0]']          \n",
            "                                                                                                  \n",
            " bn4b_branch2b (BatchNormalizat  (None, 12, 256)     1024        ['res4b_branch2b[0][0]']         \n",
            " ion)                                                                                             \n",
            "                                                                                                  \n",
            " activation_26 (Activation)     (None, 12, 256)      0           ['bn4b_branch2b[0][0]']          \n",
            "                                                                                                  \n",
            " res4b_branch2c (Conv1D)        (None, 12, 1024)     263168      ['activation_26[0][0]']          \n",
            "                                                                                                  \n",
            " bn4b_branch2c (BatchNormalizat  (None, 12, 1024)    4096        ['res4b_branch2c[0][0]']         \n",
            " ion)                                                                                             \n",
            "                                                                                                  \n",
            " add_8 (Add)                    (None, 12, 1024)     0           ['bn4b_branch2c[0][0]',          \n",
            "                                                                  'activation_24[0][0]']          \n",
            "                                                                                                  \n",
            " activation_27 (Activation)     (None, 12, 1024)     0           ['add_8[0][0]']                  \n",
            "                                                                                                  \n",
            " res4c_branch2a (Conv1D)        (None, 12, 256)      262400      ['activation_27[0][0]']          \n",
            "                                                                                                  \n",
            " bn4c_branch2a (BatchNormalizat  (None, 12, 256)     1024        ['res4c_branch2a[0][0]']         \n",
            " ion)                                                                                             \n",
            "                                                                                                  \n",
            " activation_28 (Activation)     (None, 12, 256)      0           ['bn4c_branch2a[0][0]']          \n",
            "                                                                                                  \n",
            " res4c_branch2b (Conv1D)        (None, 12, 256)      196864      ['activation_28[0][0]']          \n",
            "                                                                                                  \n",
            " bn4c_branch2b (BatchNormalizat  (None, 12, 256)     1024        ['res4c_branch2b[0][0]']         \n",
            " ion)                                                                                             \n",
            "                                                                                                  \n",
            " activation_29 (Activation)     (None, 12, 256)      0           ['bn4c_branch2b[0][0]']          \n",
            "                                                                                                  \n",
            " res4c_branch2c (Conv1D)        (None, 12, 1024)     263168      ['activation_29[0][0]']          \n",
            "                                                                                                  \n",
            " bn4c_branch2c (BatchNormalizat  (None, 12, 1024)    4096        ['res4c_branch2c[0][0]']         \n",
            " ion)                                                                                             \n",
            "                                                                                                  \n",
            " add_9 (Add)                    (None, 12, 1024)     0           ['bn4c_branch2c[0][0]',          \n",
            "                                                                  'activation_27[0][0]']          \n",
            "                                                                                                  \n",
            " activation_30 (Activation)     (None, 12, 1024)     0           ['add_9[0][0]']                  \n",
            "                                                                                                  \n",
            " res4d_branch2a (Conv1D)        (None, 12, 256)      262400      ['activation_30[0][0]']          \n",
            "                                                                                                  \n",
            " bn4d_branch2a (BatchNormalizat  (None, 12, 256)     1024        ['res4d_branch2a[0][0]']         \n",
            " ion)                                                                                             \n",
            "                                                                                                  \n",
            " activation_31 (Activation)     (None, 12, 256)      0           ['bn4d_branch2a[0][0]']          \n",
            "                                                                                                  \n",
            " res4d_branch2b (Conv1D)        (None, 12, 256)      196864      ['activation_31[0][0]']          \n",
            "                                                                                                  \n",
            " bn4d_branch2b (BatchNormalizat  (None, 12, 256)     1024        ['res4d_branch2b[0][0]']         \n",
            " ion)                                                                                             \n",
            "                                                                                                  \n",
            " activation_32 (Activation)     (None, 12, 256)      0           ['bn4d_branch2b[0][0]']          \n",
            "                                                                                                  \n",
            " res4d_branch2c (Conv1D)        (None, 12, 1024)     263168      ['activation_32[0][0]']          \n",
            "                                                                                                  \n",
            " bn4d_branch2c (BatchNormalizat  (None, 12, 1024)    4096        ['res4d_branch2c[0][0]']         \n",
            " ion)                                                                                             \n",
            "                                                                                                  \n",
            " add_10 (Add)                   (None, 12, 1024)     0           ['bn4d_branch2c[0][0]',          \n",
            "                                                                  'activation_30[0][0]']          \n",
            "                                                                                                  \n",
            " activation_33 (Activation)     (None, 12, 1024)     0           ['add_10[0][0]']                 \n",
            "                                                                                                  \n",
            " res4e_branch2a (Conv1D)        (None, 12, 256)      262400      ['activation_33[0][0]']          \n",
            "                                                                                                  \n",
            " bn4e_branch2a (BatchNormalizat  (None, 12, 256)     1024        ['res4e_branch2a[0][0]']         \n",
            " ion)                                                                                             \n",
            "                                                                                                  \n",
            " activation_34 (Activation)     (None, 12, 256)      0           ['bn4e_branch2a[0][0]']          \n",
            "                                                                                                  \n",
            " res4e_branch2b (Conv1D)        (None, 12, 256)      196864      ['activation_34[0][0]']          \n",
            "                                                                                                  \n",
            " bn4e_branch2b (BatchNormalizat  (None, 12, 256)     1024        ['res4e_branch2b[0][0]']         \n",
            " ion)                                                                                             \n",
            "                                                                                                  \n",
            " activation_35 (Activation)     (None, 12, 256)      0           ['bn4e_branch2b[0][0]']          \n",
            "                                                                                                  \n",
            " res4e_branch2c (Conv1D)        (None, 12, 1024)     263168      ['activation_35[0][0]']          \n",
            "                                                                                                  \n",
            " bn4e_branch2c (BatchNormalizat  (None, 12, 1024)    4096        ['res4e_branch2c[0][0]']         \n",
            " ion)                                                                                             \n",
            "                                                                                                  \n",
            " add_11 (Add)                   (None, 12, 1024)     0           ['bn4e_branch2c[0][0]',          \n",
            "                                                                  'activation_33[0][0]']          \n",
            "                                                                                                  \n",
            " activation_36 (Activation)     (None, 12, 1024)     0           ['add_11[0][0]']                 \n",
            "                                                                                                  \n",
            " res4f_branch2a (Conv1D)        (None, 12, 256)      262400      ['activation_36[0][0]']          \n",
            "                                                                                                  \n",
            " bn4f_branch2a (BatchNormalizat  (None, 12, 256)     1024        ['res4f_branch2a[0][0]']         \n",
            " ion)                                                                                             \n",
            "                                                                                                  \n",
            " activation_37 (Activation)     (None, 12, 256)      0           ['bn4f_branch2a[0][0]']          \n",
            "                                                                                                  \n",
            " res4f_branch2b (Conv1D)        (None, 12, 256)      196864      ['activation_37[0][0]']          \n",
            "                                                                                                  \n",
            " bn4f_branch2b (BatchNormalizat  (None, 12, 256)     1024        ['res4f_branch2b[0][0]']         \n",
            " ion)                                                                                             \n",
            "                                                                                                  \n",
            " activation_38 (Activation)     (None, 12, 256)      0           ['bn4f_branch2b[0][0]']          \n",
            "                                                                                                  \n",
            " res4f_branch2c (Conv1D)        (None, 12, 1024)     263168      ['activation_38[0][0]']          \n",
            "                                                                                                  \n",
            " bn4f_branch2c (BatchNormalizat  (None, 12, 1024)    4096        ['res4f_branch2c[0][0]']         \n",
            " ion)                                                                                             \n",
            "                                                                                                  \n",
            " add_12 (Add)                   (None, 12, 1024)     0           ['bn4f_branch2c[0][0]',          \n",
            "                                                                  'activation_36[0][0]']          \n",
            "                                                                                                  \n",
            " activation_39 (Activation)     (None, 12, 1024)     0           ['add_12[0][0]']                 \n",
            "                                                                                                  \n",
            " res5a_branch2a (Conv1D)        (None, 6, 512)       524800      ['activation_39[0][0]']          \n",
            "                                                                                                  \n",
            " bn5a_branch2a (BatchNormalizat  (None, 6, 512)      2048        ['res5a_branch2a[0][0]']         \n",
            " ion)                                                                                             \n",
            "                                                                                                  \n",
            " activation_40 (Activation)     (None, 6, 512)       0           ['bn5a_branch2a[0][0]']          \n",
            "                                                                                                  \n",
            " res5a_branch2b (Conv1D)        (None, 6, 512)       786944      ['activation_40[0][0]']          \n",
            "                                                                                                  \n",
            " bn5a_branch2b (BatchNormalizat  (None, 6, 512)      2048        ['res5a_branch2b[0][0]']         \n",
            " ion)                                                                                             \n",
            "                                                                                                  \n",
            " activation_41 (Activation)     (None, 6, 512)       0           ['bn5a_branch2b[0][0]']          \n",
            "                                                                                                  \n",
            " res5a_branch2c (Conv1D)        (None, 6, 2048)      1050624     ['activation_41[0][0]']          \n",
            "                                                                                                  \n",
            " res5a_branch1 (Conv1D)         (None, 6, 2048)      2099200     ['activation_39[0][0]']          \n",
            "                                                                                                  \n",
            " bn5a_branch2c (BatchNormalizat  (None, 6, 2048)     8192        ['res5a_branch2c[0][0]']         \n",
            " ion)                                                                                             \n",
            "                                                                                                  \n",
            " bn5a_branch1 (BatchNormalizati  (None, 6, 2048)     8192        ['res5a_branch1[0][0]']          \n",
            " on)                                                                                              \n",
            "                                                                                                  \n",
            " add_13 (Add)                   (None, 6, 2048)      0           ['bn5a_branch2c[0][0]',          \n",
            "                                                                  'bn5a_branch1[0][0]']           \n",
            "                                                                                                  \n",
            " activation_42 (Activation)     (None, 6, 2048)      0           ['add_13[0][0]']                 \n",
            "                                                                                                  \n",
            " res5b_branch2a (Conv1D)        (None, 6, 512)       1049088     ['activation_42[0][0]']          \n",
            "                                                                                                  \n",
            " bn5b_branch2a (BatchNormalizat  (None, 6, 512)      2048        ['res5b_branch2a[0][0]']         \n",
            " ion)                                                                                             \n",
            "                                                                                                  \n",
            " activation_43 (Activation)     (None, 6, 512)       0           ['bn5b_branch2a[0][0]']          \n",
            "                                                                                                  \n",
            " res5b_branch2b (Conv1D)        (None, 6, 512)       786944      ['activation_43[0][0]']          \n",
            "                                                                                                  \n",
            " bn5b_branch2b (BatchNormalizat  (None, 6, 512)      2048        ['res5b_branch2b[0][0]']         \n",
            " ion)                                                                                             \n",
            "                                                                                                  \n",
            " activation_44 (Activation)     (None, 6, 512)       0           ['bn5b_branch2b[0][0]']          \n",
            "                                                                                                  \n",
            " res5b_branch2c (Conv1D)        (None, 6, 2048)      1050624     ['activation_44[0][0]']          \n",
            "                                                                                                  \n",
            " bn5b_branch2c (BatchNormalizat  (None, 6, 2048)     8192        ['res5b_branch2c[0][0]']         \n",
            " ion)                                                                                             \n",
            "                                                                                                  \n",
            " add_14 (Add)                   (None, 6, 2048)      0           ['bn5b_branch2c[0][0]',          \n",
            "                                                                  'activation_42[0][0]']          \n",
            "                                                                                                  \n",
            " activation_45 (Activation)     (None, 6, 2048)      0           ['add_14[0][0]']                 \n",
            "                                                                                                  \n",
            " res5c_branch2a (Conv1D)        (None, 6, 512)       1049088     ['activation_45[0][0]']          \n",
            "                                                                                                  \n",
            " bn5c_branch2a (BatchNormalizat  (None, 6, 512)      2048        ['res5c_branch2a[0][0]']         \n",
            " ion)                                                                                             \n",
            "                                                                                                  \n",
            " activation_46 (Activation)     (None, 6, 512)       0           ['bn5c_branch2a[0][0]']          \n",
            "                                                                                                  \n",
            " res5c_branch2b (Conv1D)        (None, 6, 512)       786944      ['activation_46[0][0]']          \n",
            "                                                                                                  \n",
            " bn5c_branch2b (BatchNormalizat  (None, 6, 512)      2048        ['res5c_branch2b[0][0]']         \n",
            " ion)                                                                                             \n",
            "                                                                                                  \n",
            " activation_47 (Activation)     (None, 6, 512)       0           ['bn5c_branch2b[0][0]']          \n",
            "                                                                                                  \n",
            " res5c_branch2c (Conv1D)        (None, 6, 2048)      1050624     ['activation_47[0][0]']          \n",
            "                                                                                                  \n",
            " bn5c_branch2c (BatchNormalizat  (None, 6, 2048)     8192        ['res5c_branch2c[0][0]']         \n",
            " ion)                                                                                             \n",
            "                                                                                                  \n",
            " add_15 (Add)                   (None, 6, 2048)      0           ['bn5c_branch2c[0][0]',          \n",
            "                                                                  'activation_45[0][0]']          \n",
            "                                                                                                  \n",
            " activation_48 (Activation)     (None, 6, 2048)      0           ['add_15[0][0]']                 \n",
            "                                                                                                  \n",
            " average_pooling1d (AveragePool  (None, 3, 2048)     0           ['activation_48[0][0]']          \n",
            " ing1D)                                                                                           \n",
            "                                                                                                  \n",
            " flatten (Flatten)              (None, 6144)         0           ['average_pooling1d[0][0]']      \n",
            "                                                                                                  \n",
            " fc1 (Dense)                    (None, 256)          1573120     ['flatten[0][0]']                \n",
            "                                                                                                  \n",
            " fc2 (Dense)                    (None, 128)          32896       ['fc1[0][0]']                    \n",
            "                                                                                                  \n",
            " fc3 (Dense)                    (None, 5)            645         ['fc2[0][0]']                    \n",
            "                                                                                                  \n",
            "==================================================================================================\n",
            "Total params: 17,839,109\n",
            "Trainable params: 17,785,221\n",
            "Non-trainable params: 53,888\n",
            "__________________________________________________________________________________________________\n"
          ]
        }
      ]
    },
    {
      "cell_type": "code",
      "source": [
        "model.compile(\n",
        "          loss = 'categorical_crossentropy',\n",
        "          optimizer = 'Adam',metrics = ['AUC']\n",
        "                )"
      ],
      "metadata": {
        "id": "qXD14oLEYoLB"
      },
      "execution_count": null,
      "outputs": []
    },
    {
      "cell_type": "code",
      "source": [
        "import keras\n",
        "h = model.fit(\n",
        "      x_train,y_train,validation_data=(x_val,y_val),\n",
        "                              epochs=25,batch_size=batch_size,\n",
        "                        callbacks = [\n",
        "                              keras.callbacks.ModelCheckpoint('./model_{val_auc:.3f}.h5',\n",
        "                              save_best_only = True,save_weights_only=False,\n",
        "                              monitor='val_auc')\n",
        "                          ])"
      ],
      "metadata": {
        "colab": {
          "base_uri": "https://localhost:8080/"
        },
        "id": "0XsHLZ0dYrn7",
        "outputId": "d0debd64-656b-40b6-9dc8-1784a8511f9b"
      },
      "execution_count": null,
      "outputs": [
        {
          "output_type": "stream",
          "name": "stdout",
          "text": [
            "Epoch 1/25\n",
            "293/293 [==============================] - 106s 261ms/step - loss: 0.4014 - auc: 0.9809 - val_loss: 1.7490 - val_auc: 0.6263\n",
            "Epoch 2/25\n",
            "293/293 [==============================] - 66s 226ms/step - loss: 0.1043 - auc: 0.9977 - val_loss: 0.1299 - val_auc: 0.9962\n",
            "Epoch 3/25\n",
            "293/293 [==============================] - 67s 230ms/step - loss: 0.0769 - auc: 0.9985 - val_loss: 0.0758 - val_auc: 0.9983\n",
            "Epoch 4/25\n",
            "293/293 [==============================] - 67s 228ms/step - loss: 0.0621 - auc: 0.9988 - val_loss: 0.0907 - val_auc: 0.9969\n",
            "Epoch 5/25\n",
            "293/293 [==============================] - 69s 235ms/step - loss: 0.0452 - auc: 0.9992 - val_loss: 0.0590 - val_auc: 0.9988\n",
            "Epoch 6/25\n",
            "293/293 [==============================] - 67s 228ms/step - loss: 0.0604 - auc: 0.9988 - val_loss: 0.0968 - val_auc: 0.9979\n",
            "Epoch 7/25\n",
            "293/293 [==============================] - 65s 222ms/step - loss: 0.0419 - auc: 0.9994 - val_loss: 0.1399 - val_auc: 0.9952\n",
            "Epoch 8/25\n",
            "293/293 [==============================] - 65s 222ms/step - loss: 0.0389 - auc: 0.9994 - val_loss: 0.0782 - val_auc: 0.9976\n",
            "Epoch 9/25\n",
            "293/293 [==============================] - 65s 222ms/step - loss: 0.0363 - auc: 0.9994 - val_loss: 0.0325 - val_auc: 0.9994\n",
            "Epoch 10/25\n",
            "293/293 [==============================] - 65s 222ms/step - loss: 0.0290 - auc: 0.9995 - val_loss: 0.0428 - val_auc: 0.9990\n",
            "Epoch 11/25\n",
            "293/293 [==============================] - 65s 222ms/step - loss: 0.0307 - auc: 0.9995 - val_loss: 0.0414 - val_auc: 0.9990\n",
            "Epoch 12/25\n",
            "293/293 [==============================] - 65s 222ms/step - loss: 0.0246 - auc: 0.9997 - val_loss: 0.0385 - val_auc: 0.9991\n",
            "Epoch 13/25\n",
            "293/293 [==============================] - 70s 238ms/step - loss: 0.0249 - auc: 0.9996 - val_loss: 0.0481 - val_auc: 0.9987\n",
            "Epoch 14/25\n",
            "293/293 [==============================] - 65s 222ms/step - loss: 0.0297 - auc: 0.9994 - val_loss: 0.0444 - val_auc: 0.9993\n",
            "Epoch 15/25\n",
            "293/293 [==============================] - 65s 222ms/step - loss: 0.0238 - auc: 0.9996 - val_loss: 0.0473 - val_auc: 0.9985\n",
            "Epoch 16/25\n",
            "293/293 [==============================] - 70s 238ms/step - loss: 0.0199 - auc: 0.9997 - val_loss: 0.0416 - val_auc: 0.9984\n",
            "Epoch 17/25\n",
            "293/293 [==============================] - 70s 239ms/step - loss: 0.0212 - auc: 0.9997 - val_loss: 0.0514 - val_auc: 0.9991\n",
            "Epoch 18/25\n",
            "293/293 [==============================] - 70s 239ms/step - loss: 0.0223 - auc: 0.9997 - val_loss: 0.0329 - val_auc: 0.9994\n",
            "Epoch 19/25\n",
            "293/293 [==============================] - 70s 239ms/step - loss: 0.0195 - auc: 0.9996 - val_loss: 0.0766 - val_auc: 0.9982\n",
            "Epoch 20/25\n",
            "293/293 [==============================] - 65s 223ms/step - loss: 0.0201 - auc: 0.9997 - val_loss: 0.0327 - val_auc: 0.9990\n",
            "Epoch 21/25\n",
            "293/293 [==============================] - 70s 238ms/step - loss: 0.0214 - auc: 0.9997 - val_loss: 0.0293 - val_auc: 0.9993\n",
            "Epoch 22/25\n",
            "293/293 [==============================] - 70s 239ms/step - loss: 0.0167 - auc: 0.9998 - val_loss: 0.0283 - val_auc: 0.9991\n",
            "Epoch 23/25\n",
            "293/293 [==============================] - 70s 238ms/step - loss: 0.0179 - auc: 0.9997 - val_loss: 0.0435 - val_auc: 0.9990\n",
            "Epoch 24/25\n",
            "293/293 [==============================] - 65s 221ms/step - loss: 0.0164 - auc: 0.9997 - val_loss: 0.0660 - val_auc: 0.9983\n",
            "Epoch 25/25\n",
            "293/293 [==============================] - 65s 221ms/step - loss: 0.0151 - auc: 0.9997 - val_loss: 0.0356 - val_auc: 0.9987\n"
          ]
        }
      ]
    },
    {
      "cell_type": "code",
      "source": [
        "model.save(\"./model.h5\")"
      ],
      "metadata": {
        "id": "89Q_yE7kYzCw"
      },
      "execution_count": null,
      "outputs": []
    },
    {
      "cell_type": "code",
      "source": [
        "## Model auc score and loss visualization\n",
        "auc = h.history['auc']\n",
        "val_auc=h.history['val_auc']\n",
        "loss=h.history['loss']\n",
        "val_loss=h.history['val_loss']\n",
        "\n",
        "epochs=range(len(auc)) #No. of epochs\n",
        "\n",
        "plt.figure(figsize=(10,6))\n",
        "ax0 = plt.subplot(1,2,1)\n",
        "ax1 = plt.subplot(1,2,2)\n",
        "ax0.plot(epochs,auc,'r',label='Training AUC score')\n",
        "ax0.plot(epochs,val_auc,'g',label='Testing AUC score')\n",
        "ax0.legend()\n",
        "ax0.set_xlabel('No. of epochs')\n",
        "ax0.set_ylabel('Accuracy score')\n",
        "\n",
        "\n",
        "ax1.plot(epochs,loss,'r',label='Training Loss')\n",
        "ax1.plot(epochs,val_loss,'g',label='Testing Loss')\n",
        "ax1.set_xlabel('No. of epochs')\n",
        "ax1.set_ylabel('Loss score')\n",
        "ax1.legend()\n",
        "plt.show()"
      ],
      "metadata": {
        "colab": {
          "base_uri": "https://localhost:8080/",
          "height": 388
        },
        "id": "a2kH0eN9Y2Hh",
        "outputId": "af2eef67-5047-4fcc-85fe-7ed2b472831e"
      },
      "execution_count": null,
      "outputs": [
        {
          "output_type": "display_data",
          "data": {
            "text/plain": [
              "<Figure size 720x432 with 2 Axes>"
            ],
            "image/png": "[encoded data removed]"
          },
          "metadata": {
            "needs_background": "light"
          }
        }
      ]
    },
    {
      "cell_type": "markdown",
      "metadata": {
        "id": "d6gO3liegy57"
      },
      "source": [
        "**Validation auc score**"
      ]
    },
    {
      "cell_type": "code",
      "source": [
        "model.evaluate(x_val,y_val)"
      ],
      "metadata": {
        "colab": {
          "base_uri": "https://localhost:8080/"
        },
        "id": "JPNjxySIY-zF",
        "outputId": "da3332ac-c783-47d8-cd6a-84dd9a9a5f56"
      },
      "execution_count": null,
      "outputs": [
        {
          "output_type": "stream",
          "name": "stdout",
          "text": [
            "782/782 [==============================] - 15s 18ms/step - loss: 0.0356 - auc: 0.9987\n"
          ]
        },
        {
          "output_type": "execute_result",
          "data": {
            "text/plain": [
              "[0.03562129661440849, 0.9986513257026672]"
            ]
          },
          "metadata": {},
          "execution_count": 49
        }
      ]
    },
    {
      "cell_type": "markdown",
      "source": [
        "**Testing auc score**"
      ],
      "metadata": {
        "id": "q6mOi20GZBLx"
      }
    },
    {
      "cell_type": "code",
      "source": [
        "model.evaluate(x_test,y_test)"
      ],
      "metadata": {
        "colab": {
          "base_uri": "https://localhost:8080/"
        },
        "id": "jSYB7Bl6ZEJM",
        "outputId": "956b6acd-f92b-4ae1-9651-a73319a51ab6"
      },
      "execution_count": null,
      "outputs": [
        {
          "output_type": "stream",
          "name": "stdout",
          "text": [
            "685/685 [==============================] - 11s 16ms/step - loss: 0.1249 - auc: 0.9941\n"
          ]
        },
        {
          "output_type": "execute_result",
          "data": {
            "text/plain": [
              "[0.1248588114976883, 0.9941250085830688]"
            ]
          },
          "metadata": {},
          "execution_count": 50
        }
      ]
    },
    {
      "cell_type": "markdown",
      "source": [
        "**Prediction on validation dataset**"
      ],
      "metadata": {
        "id": "QBKMIX5cZG6Y"
      }
    },
    {
      "cell_type": "code",
      "source": [
        "y_pre_val = model.predict(x_val)\n",
        "y_pred_val = np.zeros(y_pre_val.shape[0])\n",
        "for i in range(y_pred_val.shape[0]):\n",
        "    y_pred_val[i] = np.argmax(y_pre_val[i])\n",
        "y_pred_val = tf.keras.utils.to_categorical(y_pred_val)"
      ],
      "metadata": {
        "id": "0Z9vBivMZJ_X"
      },
      "execution_count": null,
      "outputs": []
    },
    {
      "cell_type": "markdown",
      "source": [
        "**Prediction on Testing dataset**"
      ],
      "metadata": {
        "id": "u08mwp11ZMYM"
      }
    },
    {
      "cell_type": "code",
      "source": [
        "y_pre = model.predict(x_test)\n",
        "y_pred = np.zeros(y_pre.shape[0])\n",
        "for i in range(y_pred.shape[0]):\n",
        "    y_pred[i] = np.argmax(y_pre[i])\n",
        "y_pred = tf.keras.utils.to_categorical(y_pred)"
      ],
      "metadata": {
        "id": "sKKG4WHyZPdH"
      },
      "execution_count": null,
      "outputs": []
    },
    {
      "cell_type": "markdown",
      "source": [
        "# **Results**"
      ],
      "metadata": {
        "id": "2T6BcBqzZSNb"
      }
    },
    {
      "cell_type": "markdown",
      "source": [
        "**For validation dataset**"
      ],
      "metadata": {
        "id": "3k732hsVZVqZ"
      }
    },
    {
      "cell_type": "code",
      "source": [
        "from sklearn.metrics import classification_report,confusion_matrix,f1_score\n",
        "print(classification_report(y_true=y_val,y_pred=y_pred_val))\n",
        "f1_score_per_class_validation = f1_score(y_true=y_val,y_pred=y_pred_val,average=None) \n",
        "print(\"The f1-score per class: \",f1_score_per_class_validation)\n",
        "print(\"The f1-score : \",f1_score(y_true=y_val,y_pred=y_pred_val,average='weighted'))"
      ],
      "metadata": {
        "colab": {
          "base_uri": "https://localhost:8080/"
        },
        "id": "pOdsTK48ZYe6",
        "outputId": "75dda62d-61ae-4cbd-fe97-eff8e9a88bab"
      },
      "execution_count": null,
      "outputs": [
        {
          "output_type": "stream",
          "name": "stdout",
          "text": [
            "              precision    recall  f1-score   support\n",
            "\n",
            "           0       0.99      0.98      0.99      5000\n",
            "           1       0.98      1.00      0.99      5000\n",
            "           2       0.99      0.99      0.99      5000\n",
            "           3       0.99      0.99      0.99      5000\n",
            "           4       1.00      1.00      1.00      5000\n",
            "\n",
            "   micro avg       0.99      0.99      0.99     25000\n",
            "   macro avg       0.99      0.99      0.99     25000\n",
            "weighted avg       0.99      0.99      0.99     25000\n",
            " samples avg       0.99      0.99      0.99     25000\n",
            "\n",
            "The f1-score per class:  [0.98669623 0.9899732  0.98879328 0.9926133  0.99769839]\n",
            "The f1-score :  0.9911548774350272\n"
          ]
        }
      ]
    },
    {
      "cell_type": "markdown",
      "source": [
        "**For testing dataset**"
      ],
      "metadata": {
        "id": "8dHXLaRpZa2t"
      }
    },
    {
      "cell_type": "code",
      "source": [
        "print(classification_report(y_true=y_test,y_pred=y_pred))\n",
        "f1_score_per_class_test = f1_score(y_true=y_test,y_pred=y_pred,average=None) \n",
        "print(\"The f1-score per class: \",f1_score_per_class_test)\n",
        "print(\"The f1-score : \",f1_score(y_true=y_test,y_pred=y_pred,average='weighted'))"
      ],
      "metadata": {
        "colab": {
          "base_uri": "https://localhost:8080/"
        },
        "id": "nEtJyDjjZd6p",
        "outputId": "97c15e5f-fa25-4cbf-cb28-33d235008075"
      },
      "execution_count": null,
      "outputs": [
        {
          "output_type": "stream",
          "name": "stdout",
          "text": [
            "              precision    recall  f1-score   support\n",
            "\n",
            "           0       0.99      0.98      0.99     18118\n",
            "           1       0.66      0.87      0.75       556\n",
            "           2       0.94      0.95      0.95      1448\n",
            "           3       0.61      0.88      0.72       162\n",
            "           4       0.99      0.99      0.99      1608\n",
            "\n",
            "   micro avg       0.97      0.97      0.97     21892\n",
            "   macro avg       0.84      0.93      0.88     21892\n",
            "weighted avg       0.98      0.97      0.98     21892\n",
            " samples avg       0.97      0.97      0.97     21892\n",
            "\n",
            "The f1-score per class:  [0.98610107 0.74863813 0.94718793 0.71898734 0.98630989]\n",
            "The f1-score :  0.9755350092313931\n"
          ]
        }
      ]
    },
    {
      "cell_type": "markdown",
      "source": [
        "**For validation dataset**"
      ],
      "metadata": {
        "id": "haKf8M3WZgYo"
      }
    },
    {
      "cell_type": "code",
      "source": [
        "fig = plt.figure(figsize=(6, 6))\n",
        "ax= plt.subplot()\n",
        "cm = confusion_matrix(y_true=np.argmax(y_val,axis=1),y_pred=np.argmax(y_pred_val,axis=1),normalize=\"true\")\n",
        "sns.heatmap(cm, annot=True, ax = ax, fmt = '.2f',)\n",
        "ax.set_xlabel('Predicted label')\n",
        "ax.set_ylabel('Actual label')\n",
        "plt.show()"
      ],
      "metadata": {
        "colab": {
          "base_uri": "https://localhost:8080/",
          "height": 388
        },
        "id": "Lli0aQqKZi3_",
        "outputId": "b4a9a2f4-6d3a-469a-c983-fa1924e42182"
      },
      "execution_count": null,
      "outputs": [
        {
          "output_type": "display_data",
          "data": {
            "text/plain": [
              "<Figure size 432x432 with 2 Axes>"
            ],
            "image/png": "[encoded data removed]"
          },
          "metadata": {
            "needs_background": "light"
          }
        }
      ]
    },
    {
      "cell_type": "markdown",
      "source": [
        "**For testing dataset**"
      ],
      "metadata": {
        "id": "kBECf8EYZljK"
      }
    },
    {
      "cell_type": "code",
      "source": [
        "fig = plt.figure(figsize=(6, 6))\n",
        "ax= plt.subplot()\n",
        "cm = confusion_matrix(y_true=np.argmax(y_test,axis=1),y_pred=np.argmax(y_pred,axis=1),normalize=\"true\")\n",
        "sns.heatmap(cm, annot=True, ax = ax, fmt = '.2f')\n",
        "ax.set_xlabel('Predicted label')\n",
        "ax.set_ylabel('Actual label')\n",
        "plt.show()"
      ],
      "metadata": {
        "colab": {
          "base_uri": "https://localhost:8080/",
          "height": 388
        },
        "id": "0HwDYalQZoDY",
        "outputId": "d6b4e61a-f22f-4685-94f4-bac4220488fb"
      },
      "execution_count": null,
      "outputs": [
        {
          "output_type": "display_data",
          "data": {
            "text/plain": [
              "<Figure size 432x432 with 2 Axes>"
            ],
            "image/png": "[encoded data removed]"
          },
          "metadata": {
            "needs_background": "light"
          }
        }
      ]
    },
    {
      "cell_type": "markdown",
      "source": [
        "**For validation dataset**"
      ],
      "metadata": {
        "id": "kIoBMH_BZqhQ"
      }
    },
    {
      "cell_type": "code",
      "source": [
        "from sklearn.metrics import precision_score\n",
        "print(\"The precision score : \",precision_score(y_true=y_val,y_pred=y_pred_val,average='weighted'))"
      ],
      "metadata": {
        "colab": {
          "base_uri": "https://localhost:8080/"
        },
        "id": "rDeDA263Ztgg",
        "outputId": "da069dbe-d98c-4a79-e6f4-970ed22b31a8"
      },
      "execution_count": null,
      "outputs": [
        {
          "output_type": "stream",
          "name": "stdout",
          "text": [
            "The precision score :  0.9911965664382744\n"
          ]
        }
      ]
    },
    {
      "cell_type": "markdown",
      "source": [
        "**For testing dataset**"
      ],
      "metadata": {
        "id": "s9NJoKuSZv-g"
      }
    },
    {
      "cell_type": "code",
      "source": [
        "print(\"The precision score : \",precision_score(y_true=y_test,y_pred=y_pred,average='weighted'))"
      ],
      "metadata": {
        "colab": {
          "base_uri": "https://localhost:8080/"
        },
        "id": "BwRPTZfzZyyY",
        "outputId": "80384d64-b7f8-4f51-ceaf-b2f09f823596"
      },
      "execution_count": null,
      "outputs": [
        {
          "output_type": "stream",
          "name": "stdout",
          "text": [
            "The precision score :  0.9780739946899345\n"
          ]
        }
      ]
    },
    {
      "cell_type": "markdown",
      "source": [
        "**For validation dataset**"
      ],
      "metadata": {
        "id": "UzA3RefbZ0-0"
      }
    },
    {
      "cell_type": "code",
      "source": [
        "from sklearn.metrics import accuracy_score\n",
        "print(\"The accuracy score : \",accuracy_score(y_true=y_val,y_pred=y_pred_val))"
      ],
      "metadata": {
        "colab": {
          "base_uri": "https://localhost:8080/"
        },
        "id": "2OawgwWMZ3gd",
        "outputId": "23e31555-2c2d-451b-ef2f-56998f62204f"
      },
      "execution_count": null,
      "outputs": [
        {
          "output_type": "stream",
          "name": "stdout",
          "text": [
            "The accuracy score :  0.99116\n"
          ]
        }
      ]
    },
    {
      "cell_type": "markdown",
      "source": [
        "**For testing dataset**"
      ],
      "metadata": {
        "id": "BV8ASOIQZ6mm"
      }
    },
    {
      "cell_type": "code",
      "source": [
        "print(\"The accuracy score : \",accuracy_score(y_true=y_test,y_pred=y_pred))"
      ],
      "metadata": {
        "colab": {
          "base_uri": "https://localhost:8080/"
        },
        "id": "oH9qDYWgZ93n",
        "outputId": "269ebbe6-dc2c-46ce-95cd-2ebd575a1186"
      },
      "execution_count": null,
      "outputs": [
        {
          "output_type": "stream",
          "name": "stdout",
          "text": [
            "The accuracy score :  0.9741458066873744\n"
          ]
        }
      ]
    },
    {
      "cell_type": "markdown",
      "source": [
        "**For calculating average accuracy of our model on test set**"
      ],
      "metadata": {
        "id": "NWkm3Gd5aAi9"
      }
    },
    {
      "cell_type": "code",
      "source": [
        "num_models = 5\n",
        "accuracy_scores = []\n",
        "for num in range(num_models):\n",
        "    print(\"Training model : \",num+1)\n",
        "    h = model.fit(\n",
        "          x_train,y_train,validation_data=(x_val,y_val),\n",
        "                                  epochs=25,batch_size=batch_size,\n",
        "                            callbacks = [\n",
        "                                  keras.callbacks.ModelCheckpoint('./model_{val_auc:.3f}.h5',\n",
        "                                  save_best_only = True,save_weights_only=False,\n",
        "                                  monitor='val_auc')\n",
        "                              ])\n",
        "    y_pre = model.predict(x_test)\n",
        "    y_pred = np.zeros(y_pre.shape[0])\n",
        "    for i in range(y_pred.shape[0]):\n",
        "        y_pred[i] = np.argmax(y_pre[i])\n",
        "    y_pred = tf.keras.utils.to_categorical(y_pred)\n",
        "    b = accuracy_score(y_true=y_test,y_pred=y_pred)\n",
        "    print(\"The accuracy score of model \"+str(num+1)+\" : \"+str(b))\n",
        "    accuracy_scores.append(b)\n",
        "print(accuracy_scores)\n",
        "print(\"The average accuracy : \",np.mean(accuracy_scores))"
      ],
      "metadata": {
        "colab": {
          "base_uri": "https://localhost:8080/"
        },
        "id": "5y4YyK-EaDw0",
        "outputId": "33fa9f6b-5c15-4947-dd7d-09a4b31a37fb"
      },
      "execution_count": null,
      "outputs": [
        {
          "output_type": "stream",
          "name": "stdout",
          "text": [
            "Training model :  1\n",
            "Epoch 1/25\n",
            "293/293 [==============================] - 64s 219ms/step - loss: 0.0334 - auc: 0.9993 - val_loss: 0.1348 - val_auc: 0.9961\n",
            "Epoch 2/25\n",
            "293/293 [==============================] - 63s 216ms/step - loss: 0.0170 - auc: 0.9998 - val_loss: 0.0507 - val_auc: 0.9988\n",
            "Epoch 3/25\n",
            "293/293 [==============================] - 64s 218ms/step - loss: 0.0137 - auc: 0.9998 - val_loss: 0.0191 - val_auc: 0.9994\n",
            "Epoch 4/25\n",
            "293/293 [==============================] - 64s 220ms/step - loss: 0.0079 - auc: 0.9999 - val_loss: 0.0246 - val_auc: 0.9992\n",
            "Epoch 5/25\n",
            "293/293 [==============================] - 65s 220ms/step - loss: 0.0174 - auc: 0.9997 - val_loss: 0.0472 - val_auc: 0.9984\n",
            "Epoch 6/25\n",
            "293/293 [==============================] - 65s 221ms/step - loss: 0.0117 - auc: 0.9999 - val_loss: 0.0178 - val_auc: 0.9994\n",
            "Epoch 7/25\n",
            "293/293 [==============================] - 65s 221ms/step - loss: 0.0072 - auc: 0.9999 - val_loss: 0.0318 - val_auc: 0.9991\n",
            "Epoch 8/25\n",
            "293/293 [==============================] - 65s 221ms/step - loss: 0.0119 - auc: 0.9998 - val_loss: 0.0254 - val_auc: 0.9993\n",
            "Epoch 9/25\n",
            "293/293 [==============================] - 70s 238ms/step - loss: 0.0096 - auc: 0.9998 - val_loss: 0.0238 - val_auc: 0.9992\n",
            "Epoch 10/25\n",
            "293/293 [==============================] - 69s 237ms/step - loss: 0.0115 - auc: 0.9998 - val_loss: 0.0372 - val_auc: 0.9988\n",
            "Epoch 11/25\n",
            "293/293 [==============================] - 65s 220ms/step - loss: 0.0107 - auc: 0.9998 - val_loss: 0.0370 - val_auc: 0.9991\n",
            "Epoch 12/25\n",
            "293/293 [==============================] - 69s 237ms/step - loss: 0.0086 - auc: 0.9998 - val_loss: 0.0256 - val_auc: 0.9989\n",
            "Epoch 13/25\n",
            "293/293 [==============================] - 65s 220ms/step - loss: 0.0093 - auc: 0.9998 - val_loss: 0.0272 - val_auc: 0.9990\n",
            "Epoch 14/25\n",
            "293/293 [==============================] - 65s 221ms/step - loss: 0.0079 - auc: 0.9999 - val_loss: 0.0304 - val_auc: 0.9987\n",
            "Epoch 15/25\n",
            "293/293 [==============================] - 65s 221ms/step - loss: 0.0107 - auc: 0.9998 - val_loss: 0.0366 - val_auc: 0.9986\n",
            "Epoch 16/25\n",
            "293/293 [==============================] - 71s 242ms/step - loss: 0.0191 - auc: 0.9997 - val_loss: 4.9962 - val_auc: 0.9478\n",
            "Epoch 17/25\n",
            "293/293 [==============================] - 64s 220ms/step - loss: 0.0129 - auc: 0.9998 - val_loss: 0.0266 - val_auc: 0.9992\n",
            "Epoch 18/25\n",
            "293/293 [==============================] - 65s 220ms/step - loss: 0.0044 - auc: 0.9999 - val_loss: 0.0271 - val_auc: 0.9989\n",
            "Epoch 19/25\n",
            "293/293 [==============================] - 70s 238ms/step - loss: 0.0066 - auc: 0.9999 - val_loss: 0.0358 - val_auc: 0.9985\n",
            "Epoch 20/25\n",
            "293/293 [==============================] - 65s 220ms/step - loss: 0.0073 - auc: 0.9998 - val_loss: 0.0206 - val_auc: 0.9991\n",
            "Epoch 21/25\n",
            "293/293 [==============================] - 65s 220ms/step - loss: 0.0049 - auc: 0.9999 - val_loss: 0.0172 - val_auc: 0.9994\n",
            "Epoch 22/25\n",
            "293/293 [==============================] - 65s 221ms/step - loss: 0.0055 - auc: 0.9999 - val_loss: 0.0220 - val_auc: 0.9990\n",
            "Epoch 23/25\n",
            "293/293 [==============================] - 65s 221ms/step - loss: 0.0068 - auc: 0.9998 - val_loss: 0.0334 - val_auc: 0.9988\n",
            "Epoch 24/25\n",
            "293/293 [==============================] - 65s 221ms/step - loss: 0.0107 - auc: 0.9998 - val_loss: 0.0228 - val_auc: 0.9991\n",
            "Epoch 25/25\n",
            "293/293 [==============================] - 65s 221ms/step - loss: 0.0066 - auc: 0.9999 - val_loss: 0.0299 - val_auc: 0.9988\n",
            "The accuracy score of model 1 : 0.9779371459894025\n",
            "Training model :  2\n",
            "Epoch 1/25\n",
            "293/293 [==============================] - 71s 241ms/step - loss: 0.0065 - auc: 0.9998 - val_loss: 0.0454 - val_auc: 0.9989\n",
            "Epoch 2/25\n",
            "293/293 [==============================] - 65s 223ms/step - loss: 0.0057 - auc: 0.9999 - val_loss: 0.0270 - val_auc: 0.9987\n",
            "Epoch 3/25\n",
            "293/293 [==============================] - 65s 220ms/step - loss: 0.0059 - auc: 0.9999 - val_loss: 0.0198 - val_auc: 0.9991\n",
            "Epoch 4/25\n",
            "293/293 [==============================] - 65s 221ms/step - loss: 0.0066 - auc: 0.9998 - val_loss: 0.0241 - val_auc: 0.9991\n",
            "Epoch 5/25\n",
            "293/293 [==============================] - 65s 222ms/step - loss: 0.0070 - auc: 0.9999 - val_loss: 0.0370 - val_auc: 0.9987\n",
            "Epoch 6/25\n",
            "293/293 [==============================] - 65s 222ms/step - loss: 0.0050 - auc: 0.9999 - val_loss: 0.0261 - val_auc: 0.9990\n",
            "Epoch 7/25\n",
            "293/293 [==============================] - 71s 241ms/step - loss: 0.0076 - auc: 0.9998 - val_loss: 0.0303 - val_auc: 0.9987\n",
            "Epoch 8/25\n",
            "293/293 [==============================] - 69s 236ms/step - loss: 0.0073 - auc: 0.9998 - val_loss: 0.0218 - val_auc: 0.9992\n",
            "Epoch 9/25\n",
            "293/293 [==============================] - 69s 236ms/step - loss: 0.0041 - auc: 0.9999 - val_loss: 0.0230 - val_auc: 0.9990\n",
            "Epoch 10/25\n",
            "293/293 [==============================] - 64s 220ms/step - loss: 0.0028 - auc: 1.0000 - val_loss: 0.0231 - val_auc: 0.9990\n",
            "Epoch 11/25\n",
            "293/293 [==============================] - 66s 224ms/step - loss: 0.0073 - auc: 0.9998 - val_loss: 0.0332 - val_auc: 0.9986\n",
            "Epoch 12/25\n",
            "293/293 [==============================] - 65s 224ms/step - loss: 0.0069 - auc: 0.9999 - val_loss: 0.0473 - val_auc: 0.9984\n",
            "Epoch 13/25\n",
            "293/293 [==============================] - 65s 221ms/step - loss: 0.0065 - auc: 0.9999 - val_loss: 0.0221 - val_auc: 0.9992\n",
            "Epoch 14/25\n",
            "293/293 [==============================] - 65s 221ms/step - loss: 0.0026 - auc: 0.9999 - val_loss: 0.0270 - val_auc: 0.9988\n",
            "Epoch 15/25\n",
            "293/293 [==============================] - 65s 221ms/step - loss: 0.0025 - auc: 1.0000 - val_loss: 0.0232 - val_auc: 0.9989\n",
            "Epoch 16/25\n",
            "293/293 [==============================] - 65s 221ms/step - loss: 0.0040 - auc: 0.9999 - val_loss: 0.0249 - val_auc: 0.9990\n",
            "Epoch 17/25\n",
            "293/293 [==============================] - 66s 224ms/step - loss: 0.0014 - auc: 1.0000 - val_loss: 0.0369 - val_auc: 0.9983\n",
            "Epoch 18/25\n",
            "293/293 [==============================] - 69s 237ms/step - loss: 0.0068 - auc: 0.9999 - val_loss: 0.0296 - val_auc: 0.9989\n",
            "Epoch 19/25\n",
            "293/293 [==============================] - 65s 220ms/step - loss: 0.0090 - auc: 0.9999 - val_loss: 0.0249 - val_auc: 0.9990\n",
            "Epoch 20/25\n",
            "293/293 [==============================] - 65s 221ms/step - loss: 0.0025 - auc: 0.9999 - val_loss: 0.0226 - val_auc: 0.9989\n",
            "Epoch 21/25\n",
            "293/293 [==============================] - 65s 221ms/step - loss: 0.0057 - auc: 0.9999 - val_loss: 0.0263 - val_auc: 0.9990\n",
            "Epoch 22/25\n",
            "293/293 [==============================] - 65s 221ms/step - loss: 0.0059 - auc: 0.9998 - val_loss: 0.0294 - val_auc: 0.9988\n",
            "Epoch 23/25\n",
            "293/293 [==============================] - 66s 225ms/step - loss: 0.0054 - auc: 0.9998 - val_loss: 0.0424 - val_auc: 0.9981\n",
            "Epoch 24/25\n",
            "293/293 [==============================] - 69s 237ms/step - loss: 0.0059 - auc: 0.9999 - val_loss: 0.0304 - val_auc: 0.9985\n",
            "Epoch 25/25\n",
            "293/293 [==============================] - 65s 221ms/step - loss: 0.0015 - auc: 1.0000 - val_loss: 0.0225 - val_auc: 0.9990\n",
            "The accuracy score of model 2 : 0.981545770144345\n",
            "Training model :  3\n",
            "Epoch 1/25\n",
            "293/293 [==============================] - 70s 239ms/step - loss: 2.3069e-05 - auc: 1.0000 - val_loss: 0.0261 - val_auc: 0.9988\n",
            "Epoch 2/25\n",
            "293/293 [==============================] - 66s 225ms/step - loss: 0.0067 - auc: 0.9999 - val_loss: 0.0572 - val_auc: 0.9972\n",
            "Epoch 3/25\n",
            "293/293 [==============================] - 70s 238ms/step - loss: 0.0083 - auc: 0.9998 - val_loss: 0.0298 - val_auc: 0.9989\n",
            "Epoch 4/25\n",
            "293/293 [==============================] - 65s 222ms/step - loss: 0.0029 - auc: 0.9999 - val_loss: 0.0254 - val_auc: 0.9990\n",
            "Epoch 5/25\n",
            "293/293 [==============================] - 65s 222ms/step - loss: 0.0044 - auc: 0.9999 - val_loss: 0.0257 - val_auc: 0.9989\n",
            "Epoch 6/25\n",
            "293/293 [==============================] - 65s 222ms/step - loss: 0.0015 - auc: 0.9999 - val_loss: 0.0230 - val_auc: 0.9989\n",
            "Epoch 7/25\n",
            "293/293 [==============================] - 70s 238ms/step - loss: 0.0025 - auc: 0.9999 - val_loss: 0.0246 - val_auc: 0.9988\n",
            "Epoch 8/25\n",
            "293/293 [==============================] - 70s 239ms/step - loss: 0.0097 - auc: 0.9998 - val_loss: 0.0277 - val_auc: 0.9992\n",
            "Epoch 9/25\n",
            "293/293 [==============================] - 70s 238ms/step - loss: 0.0066 - auc: 0.9998 - val_loss: 0.0224 - val_auc: 0.9990\n",
            "Epoch 10/25\n",
            "293/293 [==============================] - 65s 222ms/step - loss: 0.0017 - auc: 0.9999 - val_loss: 0.0215 - val_auc: 0.9992\n",
            "Epoch 11/25\n",
            "293/293 [==============================] - 70s 238ms/step - loss: 0.0028 - auc: 0.9999 - val_loss: 0.0193 - val_auc: 0.9991\n",
            "Epoch 12/25\n",
            "293/293 [==============================] - 65s 222ms/step - loss: 3.8814e-04 - auc: 1.0000 - val_loss: 0.0273 - val_auc: 0.9988\n",
            "Epoch 13/25\n",
            "293/293 [==============================] - 65s 222ms/step - loss: 0.0045 - auc: 0.9999 - val_loss: 0.0227 - val_auc: 0.9993\n",
            "Epoch 14/25\n",
            "293/293 [==============================] - 65s 222ms/step - loss: 0.0076 - auc: 0.9999 - val_loss: 0.0237 - val_auc: 0.9990\n",
            "Epoch 15/25\n",
            "293/293 [==============================] - 65s 222ms/step - loss: 8.8579e-04 - auc: 1.0000 - val_loss: 0.0243 - val_auc: 0.9988\n",
            "Epoch 16/25\n",
            "293/293 [==============================] - 65s 222ms/step - loss: 2.8897e-04 - auc: 1.0000 - val_loss: 0.0302 - val_auc: 0.9986\n",
            "Epoch 17/25\n",
            "293/293 [==============================] - 65s 222ms/step - loss: 0.0047 - auc: 0.9999 - val_loss: 0.0239 - val_auc: 0.9989\n",
            "Epoch 18/25\n",
            "293/293 [==============================] - 65s 222ms/step - loss: 0.0024 - auc: 1.0000 - val_loss: 0.0227 - val_auc: 0.9989\n",
            "Epoch 19/25\n",
            "293/293 [==============================] - 70s 238ms/step - loss: 5.0323e-04 - auc: 1.0000 - val_loss: 0.0215 - val_auc: 0.9990\n",
            "Epoch 20/25\n",
            "293/293 [==============================] - 70s 238ms/step - loss: 0.0072 - auc: 0.9998 - val_loss: 0.0414 - val_auc: 0.9982\n",
            "Epoch 21/25\n",
            "293/293 [==============================] - 65s 222ms/step - loss: 0.0046 - auc: 0.9999 - val_loss: 0.0235 - val_auc: 0.9991\n",
            "Epoch 22/25\n",
            "293/293 [==============================] - 70s 238ms/step - loss: 0.0016 - auc: 0.9999 - val_loss: 0.0314 - val_auc: 0.9988\n",
            "Epoch 23/25\n",
            "293/293 [==============================] - 65s 223ms/step - loss: 0.0026 - auc: 0.9999 - val_loss: 0.0214 - val_auc: 0.9991\n",
            "Epoch 24/25\n",
            "293/293 [==============================] - 65s 222ms/step - loss: 0.0058 - auc: 0.9998 - val_loss: 0.0262 - val_auc: 0.9993\n",
            "Epoch 25/25\n",
            "293/293 [==============================] - 65s 222ms/step - loss: 0.0034 - auc: 0.9999 - val_loss: 0.0577 - val_auc: 0.9978\n",
            "The accuracy score of model 3 : 0.9724100127900603\n",
            "Training model :  4\n",
            "Epoch 1/25\n",
            "293/293 [==============================] - 66s 226ms/step - loss: 0.0045 - auc: 0.9999 - val_loss: 0.0281 - val_auc: 0.9988\n",
            "Epoch 2/25\n",
            "293/293 [==============================] - 65s 222ms/step - loss: 0.0020 - auc: 0.9999 - val_loss: 0.0289 - val_auc: 0.9990\n",
            "Epoch 3/25\n",
            "293/293 [==============================] - 66s 225ms/step - loss: 0.0044 - auc: 0.9999 - val_loss: 0.0335 - val_auc: 0.9985\n",
            "Epoch 4/25\n",
            "293/293 [==============================] - 65s 222ms/step - loss: 0.0047 - auc: 0.9999 - val_loss: 0.0279 - val_auc: 0.9989\n",
            "Epoch 5/25\n",
            "293/293 [==============================] - 70s 238ms/step - loss: 0.0020 - auc: 1.0000 - val_loss: 0.0279 - val_auc: 0.9989\n",
            "Epoch 6/25\n",
            "293/293 [==============================] - 70s 239ms/step - loss: 3.8989e-04 - auc: 1.0000 - val_loss: 0.0331 - val_auc: 0.9987\n",
            "Epoch 7/25\n",
            "293/293 [==============================] - 65s 222ms/step - loss: 0.0023 - auc: 0.9999 - val_loss: 0.0259 - val_auc: 0.9990\n",
            "Epoch 8/25\n",
            "293/293 [==============================] - 65s 222ms/step - loss: 0.0022 - auc: 0.9999 - val_loss: 0.0231 - val_auc: 0.9991\n",
            "Epoch 9/25\n",
            "293/293 [==============================] - 70s 238ms/step - loss: 7.0561e-04 - auc: 1.0000 - val_loss: 0.0225 - val_auc: 0.9991\n",
            "Epoch 10/25\n",
            "293/293 [==============================] - 65s 222ms/step - loss: 2.8040e-04 - auc: 1.0000 - val_loss: 0.0261 - val_auc: 0.9987\n",
            "Epoch 11/25\n",
            "293/293 [==============================] - 65s 222ms/step - loss: 0.0037 - auc: 0.9999 - val_loss: 0.0362 - val_auc: 0.9987\n",
            "Epoch 12/25\n",
            "293/293 [==============================] - 70s 238ms/step - loss: 0.0058 - auc: 0.9999 - val_loss: 0.0259 - val_auc: 0.9987\n",
            "Epoch 13/25\n",
            "293/293 [==============================] - 65s 222ms/step - loss: 0.0024 - auc: 0.9999 - val_loss: 0.0273 - val_auc: 0.9988\n",
            "Epoch 14/25\n",
            "293/293 [==============================] - 65s 222ms/step - loss: 0.0017 - auc: 0.9999 - val_loss: 0.0257 - val_auc: 0.9989\n",
            "Epoch 15/25\n",
            "293/293 [==============================] - 65s 222ms/step - loss: 0.0049 - auc: 0.9998 - val_loss: 0.0314 - val_auc: 0.9986\n",
            "Epoch 16/25\n",
            "293/293 [==============================] - 65s 222ms/step - loss: 0.0025 - auc: 0.9999 - val_loss: 0.0292 - val_auc: 0.9989\n",
            "Epoch 17/25\n",
            "293/293 [==============================] - 65s 222ms/step - loss: 0.0051 - auc: 0.9998 - val_loss: 0.0211 - val_auc: 0.9991\n",
            "Epoch 18/25\n",
            "293/293 [==============================] - 65s 222ms/step - loss: 4.4057e-04 - auc: 1.0000 - val_loss: 0.0247 - val_auc: 0.9989\n",
            "Epoch 19/25\n",
            "293/293 [==============================] - 65s 222ms/step - loss: 1.0290e-05 - auc: 1.0000 - val_loss: 0.0266 - val_auc: 0.9989\n",
            "Epoch 20/25\n",
            "293/293 [==============================] - 70s 238ms/step - loss: 4.0180e-06 - auc: 1.0000 - val_loss: 0.0279 - val_auc: 0.9988\n",
            "Epoch 21/25\n",
            "293/293 [==============================] - 65s 222ms/step - loss: 3.2178e-06 - auc: 1.0000 - val_loss: 0.0294 - val_auc: 0.9988\n",
            "Epoch 22/25\n",
            "293/293 [==============================] - 65s 222ms/step - loss: 2.4728e-06 - auc: 1.0000 - val_loss: 0.0297 - val_auc: 0.9988\n",
            "Epoch 23/25\n",
            "293/293 [==============================] - 65s 222ms/step - loss: 1.0135e-06 - auc: 1.0000 - val_loss: 0.0302 - val_auc: 0.9988\n",
            "Epoch 24/25\n",
            "293/293 [==============================] - 70s 239ms/step - loss: 7.4135e-07 - auc: 1.0000 - val_loss: 0.0310 - val_auc: 0.9988\n",
            "Epoch 25/25\n",
            "293/293 [==============================] - 65s 222ms/step - loss: 4.3143e-07 - auc: 1.0000 - val_loss: 0.0316 - val_auc: 0.9988\n",
            "The accuracy score of model 4 : 0.980906267129545\n",
            "Training model :  5\n",
            "Epoch 1/25\n",
            "293/293 [==============================] - 71s 242ms/step - loss: 3.8399e-07 - auc: 1.0000 - val_loss: 0.0323 - val_auc: 0.9988\n",
            "Epoch 2/25\n",
            "293/293 [==============================] - 66s 225ms/step - loss: 2.4232e-07 - auc: 1.0000 - val_loss: 0.0328 - val_auc: 0.9988\n",
            "Epoch 3/25\n",
            "293/293 [==============================] - 71s 242ms/step - loss: 2.2606e-07 - auc: 1.0000 - val_loss: 0.0336 - val_auc: 0.9987\n",
            "Epoch 4/25\n",
            "293/293 [==============================] - 65s 222ms/step - loss: 1.2682e-07 - auc: 1.0000 - val_loss: 0.0342 - val_auc: 0.9988\n",
            "Epoch 5/25\n",
            "293/293 [==============================] - 65s 222ms/step - loss: 0.0201 - auc: 0.9994 - val_loss: 0.0240 - val_auc: 0.9991\n",
            "Epoch 6/25\n",
            "293/293 [==============================] - 65s 222ms/step - loss: 0.0018 - auc: 1.0000 - val_loss: 0.0252 - val_auc: 0.9990\n",
            "Epoch 7/25\n",
            "293/293 [==============================] - 70s 239ms/step - loss: 0.0046 - auc: 0.9999 - val_loss: 0.0266 - val_auc: 0.9988\n",
            "Epoch 8/25\n",
            "293/293 [==============================] - 66s 225ms/step - loss: 0.0026 - auc: 0.9999 - val_loss: 0.0288 - val_auc: 0.9987\n",
            "Epoch 9/25\n",
            "293/293 [==============================] - 65s 222ms/step - loss: 0.0031 - auc: 0.9999 - val_loss: 0.0271 - val_auc: 0.9990\n",
            "Epoch 10/25\n",
            "293/293 [==============================] - 65s 222ms/step - loss: 0.0039 - auc: 0.9999 - val_loss: 0.0280 - val_auc: 0.9988\n",
            "Epoch 11/25\n",
            "293/293 [==============================] - 65s 222ms/step - loss: 8.7084e-04 - auc: 1.0000 - val_loss: 0.0236 - val_auc: 0.9989\n",
            "Epoch 12/25\n",
            "293/293 [==============================] - 70s 238ms/step - loss: 2.1933e-04 - auc: 1.0000 - val_loss: 0.0246 - val_auc: 0.9989\n",
            "Epoch 13/25\n",
            "293/293 [==============================] - 70s 239ms/step - loss: 4.9222e-05 - auc: 1.0000 - val_loss: 0.0266 - val_auc: 0.9987\n",
            "Epoch 14/25\n",
            "293/293 [==============================] - 65s 222ms/step - loss: 1.1918e-05 - auc: 1.0000 - val_loss: 0.0286 - val_auc: 0.9987\n",
            "Epoch 15/25\n",
            "293/293 [==============================] - 70s 238ms/step - loss: 4.4587e-06 - auc: 1.0000 - val_loss: 0.0290 - val_auc: 0.9987\n",
            "Epoch 16/25\n",
            "293/293 [==============================] - 65s 222ms/step - loss: 3.3367e-06 - auc: 1.0000 - val_loss: 0.0293 - val_auc: 0.9987\n",
            "Epoch 17/25\n",
            "293/293 [==============================] - 66s 225ms/step - loss: 2.1819e-06 - auc: 1.0000 - val_loss: 0.0300 - val_auc: 0.9987\n",
            "Epoch 18/25\n",
            "293/293 [==============================] - 65s 222ms/step - loss: 1.7224e-06 - auc: 1.0000 - val_loss: 0.0304 - val_auc: 0.9987\n",
            "Epoch 19/25\n",
            "293/293 [==============================] - 65s 222ms/step - loss: 1.4706e-06 - auc: 1.0000 - val_loss: 0.0307 - val_auc: 0.9987\n",
            "Epoch 20/25\n",
            "293/293 [==============================] - 65s 222ms/step - loss: 1.1375e-06 - auc: 1.0000 - val_loss: 0.0311 - val_auc: 0.9987\n",
            "Epoch 21/25\n",
            "293/293 [==============================] - 66s 225ms/step - loss: 8.3122e-07 - auc: 1.0000 - val_loss: 0.0316 - val_auc: 0.9986\n",
            "Epoch 22/25\n",
            "293/293 [==============================] - 66s 225ms/step - loss: 7.2888e-07 - auc: 1.0000 - val_loss: 0.0321 - val_auc: 0.9986\n",
            "Epoch 23/25\n",
            "293/293 [==============================] - 66s 225ms/step - loss: 5.4578e-07 - auc: 1.0000 - val_loss: 0.0326 - val_auc: 0.9986\n",
            "Epoch 24/25\n",
            "293/293 [==============================] - 65s 222ms/step - loss: 4.9764e-07 - auc: 1.0000 - val_loss: 0.0329 - val_auc: 0.9986\n",
            "Epoch 25/25\n",
            "293/293 [==============================] - 65s 222ms/step - loss: 3.8136e-07 - auc: 1.0000 - val_loss: 0.0334 - val_auc: 0.9986\n",
            "The accuracy score of model 5 : 0.981545770144345\n",
            "[0.9779371459894025, 0.981545770144345, 0.9724100127900603, 0.980906267129545, 0.981545770144345]\n",
            "The average accuracy :  0.9788689932395396\n"
          ]
        }
      ]
    },
    {
      "cell_type": "markdown",
      "source": [
        "**Validation Results**"
      ],
      "metadata": {
        "id": "F8ckRMu4aImc"
      }
    },
    {
      "cell_type": "code",
      "source": [
        "for i in range(len(labels)):\n",
        "    print(\"The f1-score for class \"+str(i)+\" (\"+str(labels[i])+\") : \",f1_score_per_class_validation[i])"
      ],
      "metadata": {
        "colab": {
          "base_uri": "https://localhost:8080/"
        },
        "id": "YFjFSUnKaLwK",
        "outputId": "9c5faf03-b34c-42b9-858d-a45d1d66d09a"
      },
      "execution_count": null,
      "outputs": [
        {
          "output_type": "stream",
          "name": "stdout",
          "text": [
            "The f1-score for class 0 (Normal beat) :  0.9866962305986695\n",
            "The f1-score for class 1 (Supraventricular premature beat) :  0.9899731956715974\n",
            "The f1-score for class 2 (Premature ventricular contraction) :  0.9887932759655793\n",
            "The f1-score for class 3 (Fusion of ventricular and normal beat) :  0.9926132960670793\n",
            "The f1-score for class 4 (Unclassifiable beat) :  0.9976983888722104\n"
          ]
        }
      ]
    },
    {
      "cell_type": "markdown",
      "source": [
        "**Test Results**"
      ],
      "metadata": {
        "id": "QzhNmvjaaOEs"
      }
    },
    {
      "cell_type": "code",
      "source": [
        "for i in range(len(labels)):\n",
        "    print(\"The f1-score for class \"+str(i)+\" (\"+str(labels[i])+\") : \",f1_score_per_class_test[i]) "
      ],
      "metadata": {
        "colab": {
          "base_uri": "https://localhost:8080/"
        },
        "id": "m11ZOBFYaRU4",
        "outputId": "b04eed24-ec8b-4300-fea2-8982ecf8491e"
      },
      "execution_count": null,
      "outputs": [
        {
          "output_type": "stream",
          "name": "stdout",
          "text": [
            "The f1-score for class 0 (Normal beat) :  0.9861010729971647\n",
            "The f1-score for class 1 (Supraventricular premature beat) :  0.7486381322957198\n",
            "The f1-score for class 2 (Premature ventricular contraction) :  0.9471879286694102\n",
            "The f1-score for class 3 (Fusion of ventricular and normal beat) :  0.718987341772152\n",
            "The f1-score for class 4 (Unclassifiable beat) :  0.9863098942128189\n"
          ]
        }
      ]
    }
  ]
}